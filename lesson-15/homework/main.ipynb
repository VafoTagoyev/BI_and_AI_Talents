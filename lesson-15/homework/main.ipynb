{
 "cells": [
  {
   "cell_type": "code",
   "id": "initial_id",
   "metadata": {
    "collapsed": true,
    "ExecuteTime": {
     "end_time": "2025-01-31T14:29:37.541036Z",
     "start_time": "2025-01-31T14:29:37.454791Z"
    }
   },
   "source": "import numpy as np",
   "outputs": [],
   "execution_count": 1
  },
  {
   "metadata": {},
   "cell_type": "markdown",
   "source": "1. Create a vector with values ranging from 10 to 49.",
   "id": "15f7b36266d41f6d"
  },
  {
   "metadata": {
    "ExecuteTime": {
     "end_time": "2025-01-31T14:30:11.539497Z",
     "start_time": "2025-01-31T14:30:11.528007Z"
    }
   },
   "cell_type": "code",
   "source": [
    "arr = np.arange(10,50)\n",
    "print(arr)\n",
    "print()"
   ],
   "id": "e9aa3652989d3a9f",
   "outputs": [
    {
     "name": "stdout",
     "output_type": "stream",
     "text": [
      "[10 11 12 13 14 15 16 17 18 19 20 21 22 23 24 25 26 27 28 29 30 31 32 33\n",
      " 34 35 36 37 38 39 40 41 42 43 44 45 46 47 48 49]\n",
      "\n"
     ]
    }
   ],
   "execution_count": 2
  },
  {
   "metadata": {},
   "cell_type": "markdown",
   "source": "2. Create a 3x3 matrix with values ranging from 0 to 8.",
   "id": "b296595f2055b7f0"
  },
  {
   "metadata": {
    "ExecuteTime": {
     "end_time": "2025-01-31T14:30:32.408735Z",
     "start_time": "2025-01-31T14:30:32.392567Z"
    }
   },
   "cell_type": "code",
   "source": [
    "arr = np.arange(9).reshape(3,3)\n",
    "print(arr)\n",
    "print()"
   ],
   "id": "3a05a4959d729a9b",
   "outputs": [
    {
     "name": "stdout",
     "output_type": "stream",
     "text": [
      "[[0 1 2]\n",
      " [3 4 5]\n",
      " [6 7 8]]\n",
      "\n"
     ]
    }
   ],
   "execution_count": 3
  },
  {
   "metadata": {},
   "cell_type": "markdown",
   "source": "3. Create a 3x3 identity matrix.",
   "id": "3c4720cabc59eb88"
  },
  {
   "metadata": {
    "ExecuteTime": {
     "end_time": "2025-01-31T14:30:48.021512Z",
     "start_time": "2025-01-31T14:30:48.008162Z"
    }
   },
   "cell_type": "code",
   "source": [
    "arr = np.eye(3)\n",
    "print(arr)\n",
    "print()"
   ],
   "id": "5467b01eb6e94880",
   "outputs": [
    {
     "name": "stdout",
     "output_type": "stream",
     "text": [
      "[[1. 0. 0.]\n",
      " [0. 1. 0.]\n",
      " [0. 0. 1.]]\n",
      "\n"
     ]
    }
   ],
   "execution_count": 4
  },
  {
   "metadata": {},
   "cell_type": "markdown",
   "source": "4. Create a 3x3x3 array with random values.",
   "id": "6d980d357c8d9bd5"
  },
  {
   "metadata": {
    "ExecuteTime": {
     "end_time": "2025-01-31T14:30:59.967375Z",
     "start_time": "2025-01-31T14:30:59.935241Z"
    }
   },
   "cell_type": "code",
   "source": [
    "arr = np.random.rand(3,3,3)\n",
    "print(arr)\n",
    "print()"
   ],
   "id": "3e8c90293654f716",
   "outputs": [
    {
     "name": "stdout",
     "output_type": "stream",
     "text": [
      "[[[0.47190537 0.36432929 0.47011138]\n",
      "  [0.70068995 0.21213332 0.20082763]\n",
      "  [0.12331644 0.04272614 0.42213202]]\n",
      "\n",
      " [[0.51909759 0.53843152 0.67109831]\n",
      "  [0.15970958 0.86926604 0.70010673]\n",
      "  [0.81758443 0.78230911 0.82138855]]\n",
      "\n",
      " [[0.80087221 0.72886077 0.76101192]\n",
      "  [0.40322402 0.46464882 0.9743592 ]\n",
      "  [0.03332218 0.73282723 0.58154821]]]\n",
      "\n"
     ]
    }
   ],
   "execution_count": 5
  },
  {
   "metadata": {},
   "cell_type": "markdown",
   "source": "5. Create a 10x10 array with random values and find the minimum and maximum values.",
   "id": "52359faaffe8e97f"
  },
  {
   "metadata": {
    "ExecuteTime": {
     "end_time": "2025-01-31T14:31:13.365405Z",
     "start_time": "2025-01-31T14:31:13.351110Z"
    }
   },
   "cell_type": "code",
   "source": [
    "arr = np.random.rand(10,10)\n",
    "print(arr.min())\n",
    "print()"
   ],
   "id": "7755f34e856a3c7c",
   "outputs": [
    {
     "name": "stdout",
     "output_type": "stream",
     "text": [
      "0.0007567516768315352\n",
      "\n"
     ]
    }
   ],
   "execution_count": 6
  },
  {
   "metadata": {},
   "cell_type": "markdown",
   "source": "6. Create a random vector of size 30 and find the mean value.",
   "id": "3ce2fae165209abf"
  },
  {
   "metadata": {
    "ExecuteTime": {
     "end_time": "2025-01-31T14:31:26.029696Z",
     "start_time": "2025-01-31T14:31:26.011014Z"
    }
   },
   "cell_type": "code",
   "source": [
    "arr = np.random.rand(30)\n",
    "print(arr.mean())\n",
    "print()"
   ],
   "id": "7a75456d20b289bc",
   "outputs": [
    {
     "name": "stdout",
     "output_type": "stream",
     "text": [
      "0.47424509861326186\n",
      "\n"
     ]
    }
   ],
   "execution_count": 7
  },
  {
   "metadata": {},
   "cell_type": "markdown",
   "source": "7. Normalize a 5x5 random matrix.",
   "id": "8ffafe11789f660d"
  },
  {
   "metadata": {
    "ExecuteTime": {
     "end_time": "2025-01-31T14:38:08.957883Z",
     "start_time": "2025-01-31T14:38:08.940795Z"
    }
   },
   "cell_type": "code",
   "source": [
    "arr = np.random.rand(5,5)\n",
    "normalized = (arr - arr.mean(axis=0)) / arr.std(axis=0)\n",
    "print(normalized)\n",
    "print()"
   ],
   "id": "b140e7e4f98276e4",
   "outputs": [
    {
     "name": "stdout",
     "output_type": "stream",
     "text": [
      "[[-1.32197207 -1.27985941 -0.0138571   0.27632349  0.95949675]\n",
      " [-0.69369392 -0.89040955  0.37598266 -1.3116338  -1.12866027]\n",
      " [ 1.52982227  0.84066922  1.21677969  1.02025326  0.43083643]\n",
      " [ 0.63839648  1.36425975  0.24288001  1.04729581  1.00618501]\n",
      " [-0.15255276 -0.03466    -1.82178526 -1.03223877 -1.26785791]]\n",
      "\n"
     ]
    }
   ],
   "execution_count": 8
  },
  {
   "metadata": {},
   "cell_type": "markdown",
   "source": "8. Multiply a 5x3 matrix by a 3x2 matrix (real matrix product).",
   "id": "bda6a1072e4a2f55"
  },
  {
   "metadata": {
    "ExecuteTime": {
     "end_time": "2025-01-31T14:38:22.793276Z",
     "start_time": "2025-01-31T14:38:22.778997Z"
    }
   },
   "cell_type": "code",
   "source": [
    "matrix1 = np.random.rand(5, 3)\n",
    "matrix2 = np.random.rand(3, 2)\n",
    "\n",
    "result = np.dot(matrix1,matrix2)\n",
    "print(result)\n",
    "print()"
   ],
   "id": "f47e9eb6b70c72e6",
   "outputs": [
    {
     "name": "stdout",
     "output_type": "stream",
     "text": [
      "[[1.08194649 0.23897132]\n",
      " [1.01186011 0.36088709]\n",
      " [1.17765776 0.21000862]\n",
      " [0.96294759 0.38538116]\n",
      " [1.16718914 0.38017783]]\n",
      "\n"
     ]
    }
   ],
   "execution_count": 9
  },
  {
   "metadata": {},
   "cell_type": "markdown",
   "source": "9. Create two 3x3 matrices and compute their dot product.",
   "id": "f2b18043936e6f90"
  },
  {
   "metadata": {
    "ExecuteTime": {
     "end_time": "2025-01-31T14:38:40.138667Z",
     "start_time": "2025-01-31T14:38:40.133174Z"
    }
   },
   "cell_type": "code",
   "source": [
    "matrix1 = np.random.rand(3, 3)\n",
    "matrix2 = np.random.rand(3, 3)\n",
    "result = np.dot(matrix1, matrix2)\n",
    "\n",
    "print(result)\n",
    "print()"
   ],
   "id": "273e203aaba74db",
   "outputs": [
    {
     "name": "stdout",
     "output_type": "stream",
     "text": [
      "[[0.53940264 0.35488628 0.32157426]\n",
      " [1.13213191 0.79991499 0.76445863]\n",
      " [1.33720917 0.98452817 0.88844202]]\n",
      "\n"
     ]
    }
   ],
   "execution_count": 10
  },
  {
   "metadata": {},
   "cell_type": "markdown",
   "source": "10. Given a 4x4 matrix, find its transpose.",
   "id": "8ff9403b95e47cd3"
  },
  {
   "metadata": {
    "ExecuteTime": {
     "end_time": "2025-01-31T14:38:56.737769Z",
     "start_time": "2025-01-31T14:38:56.722663Z"
    }
   },
   "cell_type": "code",
   "source": [
    "matrix = np.random.rand(4,4)\n",
    "transpose = matrix.T\n",
    "print(transpose)\n",
    "print()"
   ],
   "id": "bb6ad0377ecefe7e",
   "outputs": [
    {
     "name": "stdout",
     "output_type": "stream",
     "text": [
      "[[0.6649364  0.76294963 0.19655707 0.82514687]\n",
      " [0.38048561 0.18244939 0.84573638 0.15387247]\n",
      " [0.24543296 0.56632442 0.57256095 0.97309894]\n",
      " [0.10585255 0.06061839 0.29028797 0.59026694]]\n",
      "\n"
     ]
    }
   ],
   "execution_count": 11
  },
  {
   "metadata": {},
   "cell_type": "markdown",
   "source": "11. Create a 3x3 matrix and calculate its determinant.",
   "id": "241c289955d19f75"
  },
  {
   "metadata": {
    "ExecuteTime": {
     "end_time": "2025-01-31T14:39:14.816911Z",
     "start_time": "2025-01-31T14:39:14.809676Z"
    }
   },
   "cell_type": "code",
   "source": [
    "matrix = np.random.rand(3,3)\n",
    "determinant = np.linalg.det(matrix)\n",
    "\n",
    "print(determinant)\n",
    "print()"
   ],
   "id": "e2879185926d8ffc",
   "outputs": [
    {
     "name": "stdout",
     "output_type": "stream",
     "text": [
      "-0.09367236387515473\n",
      "\n"
     ]
    }
   ],
   "execution_count": 12
  },
  {
   "metadata": {},
   "cell_type": "markdown",
   "source": "12. Create two matrices ( A ) (3x4) and ( B ) (4x3), and compute the matrix product ( A \\cdot B ).",
   "id": "abc779f8afd2508e"
  },
  {
   "metadata": {
    "ExecuteTime": {
     "end_time": "2025-01-31T14:39:27.224610Z",
     "start_time": "2025-01-31T14:39:27.207395Z"
    }
   },
   "cell_type": "code",
   "source": [
    "matrix_A = np.random.rand(3, 4)\n",
    "matrix_B = np.random.rand(4, 3)\n",
    "\n",
    "result = np.dot(matrix_A, matrix_B)\n",
    "print(result)\n",
    "print()"
   ],
   "id": "cea81486a3404d57",
   "outputs": [
    {
     "name": "stdout",
     "output_type": "stream",
     "text": [
      "[[1.53034367 1.10740657 0.67599876]\n",
      " [1.8136055  1.14112711 0.59561913]\n",
      " [1.39175351 0.56256174 0.23966092]]\n",
      "\n"
     ]
    }
   ],
   "execution_count": 13
  },
  {
   "metadata": {},
   "cell_type": "markdown",
   "source": "13. Create a 3x3 random matrix and a 3-element column vector. Compute the matrix-vector product.",
   "id": "64ee82f2ffa990e3"
  },
  {
   "metadata": {
    "ExecuteTime": {
     "end_time": "2025-01-31T14:39:49.079024Z",
     "start_time": "2025-01-31T14:39:49.062439Z"
    }
   },
   "cell_type": "code",
   "source": [
    "matrix = np.random.rand(3, 3)\n",
    "vector = np.random.rand(3, 1)\n",
    "result = np.dot(matrix, vector)\n",
    "\n",
    "print(result)\n",
    "print()"
   ],
   "id": "5d309bc5d3854688",
   "outputs": [
    {
     "name": "stdout",
     "output_type": "stream",
     "text": [
      "[[1.4240191 ]\n",
      " [0.95226314]\n",
      " [1.1689861 ]]\n",
      "\n"
     ]
    }
   ],
   "execution_count": 14
  },
  {
   "metadata": {},
   "cell_type": "markdown",
   "source": "14. Solve the linear system ( Ax = b ) where ( A ) is a 3x3 matrix, and ( b ) is a 3x1 column vector.",
   "id": "c57c9f5464d8c9cb"
  },
  {
   "metadata": {
    "ExecuteTime": {
     "end_time": "2025-01-31T14:40:21.594694Z",
     "start_time": "2025-01-31T14:40:21.579690Z"
    }
   },
   "cell_type": "code",
   "source": [
    "matrix_A = np.random.rand(3, 3)\n",
    "vector_b = np.random.rand(3, 1)\n",
    "\n",
    "solution = np.linalg.solve(matrix_A, vector_b)\n",
    "\n",
    "print(solution)\n",
    "print()"
   ],
   "id": "3577c44a886a2591",
   "outputs": [
    {
     "name": "stdout",
     "output_type": "stream",
     "text": [
      "[[-0.61063609]\n",
      " [ 0.19191854]\n",
      " [ 1.4153896 ]]\n",
      "\n"
     ]
    }
   ],
   "execution_count": 15
  },
  {
   "metadata": {},
   "cell_type": "markdown",
   "source": "15. Given a 5x5 matrix, find the row-wise and column-wise sums.",
   "id": "9f44767992dceb5f"
  },
  {
   "metadata": {
    "ExecuteTime": {
     "end_time": "2025-01-31T14:40:36.321982Z",
     "start_time": "2025-01-31T14:40:36.316158Z"
    }
   },
   "cell_type": "code",
   "source": [
    "matrix = np.random.rand(5, 5)\n",
    "\n",
    "row_sums = matrix.sum(axis=1)\n",
    "column_sums = matrix.sum(axis=0)\n",
    "print(row_sums)\n",
    "print(column_sums)\n",
    "print()"
   ],
   "id": "48d0e4e4e7482f8d",
   "outputs": [
    {
     "name": "stdout",
     "output_type": "stream",
     "text": [
      "[1.88136996 2.54345233 3.84718633 2.61314618 1.64005664]\n",
      "[1.93029873 1.85850882 3.5005585  2.76467297 2.47117242]\n",
      "\n"
     ]
    }
   ],
   "execution_count": 16
  }
 ],
 "metadata": {
  "kernelspec": {
   "display_name": "Python 3",
   "language": "python",
   "name": "python3"
  },
  "language_info": {
   "codemirror_mode": {
    "name": "ipython",
    "version": 2
   },
   "file_extension": ".py",
   "mimetype": "text/x-python",
   "name": "python",
   "nbconvert_exporter": "python",
   "pygments_lexer": "ipython2",
   "version": "2.7.6"
  }
 },
 "nbformat": 4,
 "nbformat_minor": 5
}
