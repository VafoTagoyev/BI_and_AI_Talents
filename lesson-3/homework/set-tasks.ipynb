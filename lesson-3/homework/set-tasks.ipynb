{
 "cells": [
  {
   "metadata": {},
   "cell_type": "markdown",
   "source": "1. Union of Sets: Given two sets, create a new set that contains all unique elements from both sets.",
   "id": "7263582c00639908"
  },
  {
   "cell_type": "code",
   "id": "initial_id",
   "metadata": {
    "collapsed": true,
    "ExecuteTime": {
     "end_time": "2025-01-10T20:23:21.177567Z",
     "start_time": "2025-01-10T20:23:21.172781Z"
    }
   },
   "source": [
    "set1 = {1, 2, 3}\n",
    "set2 = {3, 4, 5}\n",
    "union_set = set1.union(set2)\n",
    "print(union_set)"
   ],
   "outputs": [
    {
     "name": "stdout",
     "output_type": "stream",
     "text": [
      "{1, 2, 3, 4, 5}\n"
     ]
    }
   ],
   "execution_count": 1
  },
  {
   "metadata": {},
   "cell_type": "markdown",
   "source": "2. Intersection of Sets: Given two sets, create a new set that contains elements common to both sets.",
   "id": "61f2e408f9d9716a"
  },
  {
   "metadata": {
    "ExecuteTime": {
     "end_time": "2025-01-10T20:23:32.041488Z",
     "start_time": "2025-01-10T20:23:32.037611Z"
    }
   },
   "cell_type": "code",
   "source": [
    "set1 = {1, 2, 3}\n",
    "set2 = {3, 4, 5}\n",
    "intersection_set = set1.intersection(set2)\n",
    "print(intersection_set)"
   ],
   "id": "554b78bf610deff1",
   "outputs": [
    {
     "name": "stdout",
     "output_type": "stream",
     "text": [
      "{3}\n"
     ]
    }
   ],
   "execution_count": 2
  },
  {
   "metadata": {},
   "cell_type": "markdown",
   "source": "3. Difference of Sets: Given two sets, create a new set with elements from the first set that are not in the second.",
   "id": "452090d31eb46f13"
  },
  {
   "metadata": {
    "ExecuteTime": {
     "end_time": "2025-01-10T20:23:43.897961Z",
     "start_time": "2025-01-10T20:23:43.894064Z"
    }
   },
   "cell_type": "code",
   "source": [
    "set1 = {1, 2, 3}\n",
    "set2 = {3, 4, 5}\n",
    "difference_set = set1.difference(set2)\n",
    "print(difference_set)"
   ],
   "id": "e187add947c0542a",
   "outputs": [
    {
     "name": "stdout",
     "output_type": "stream",
     "text": [
      "{1, 2}\n"
     ]
    }
   ],
   "execution_count": 3
  },
  {
   "metadata": {},
   "cell_type": "markdown",
   "source": "4. Check Subset: Given two sets, check if one set is a subset of the other.",
   "id": "5761d08967498196"
  },
  {
   "metadata": {
    "ExecuteTime": {
     "end_time": "2025-01-10T20:23:58.617289Z",
     "start_time": "2025-01-10T20:23:58.614180Z"
    }
   },
   "cell_type": "code",
   "source": [
    "set1 = {1, 2}\n",
    "set2 = {1, 2, 3}\n",
    "is_subset = set1.issubset(set2)\n",
    "print(is_subset)"
   ],
   "id": "3dfd138f3821e53d",
   "outputs": [
    {
     "name": "stdout",
     "output_type": "stream",
     "text": [
      "True\n"
     ]
    }
   ],
   "execution_count": 4
  },
  {
   "metadata": {},
   "cell_type": "markdown",
   "source": "5. Check Element: Given a set and an element, check if the element exists in the set.",
   "id": "f4f6a8da485ee11"
  },
  {
   "metadata": {
    "ExecuteTime": {
     "end_time": "2025-01-10T20:24:08.632295Z",
     "start_time": "2025-01-10T20:24:08.628465Z"
    }
   },
   "cell_type": "code",
   "source": [
    "set1 = {1, 2, 3}\n",
    "elem = 2\n",
    "is_present = elem in set1\n",
    "print(is_present)"
   ],
   "id": "15bcbb98f9a465e8",
   "outputs": [
    {
     "name": "stdout",
     "output_type": "stream",
     "text": [
      "True\n"
     ]
    }
   ],
   "execution_count": 5
  },
  {
   "metadata": {},
   "cell_type": "markdown",
   "source": "6. Set Length: Determine the number of unique elements in a set.",
   "id": "925ea1c99ae91db6"
  },
  {
   "metadata": {
    "ExecuteTime": {
     "end_time": "2025-01-10T20:24:17.918715Z",
     "start_time": "2025-01-10T20:24:17.915596Z"
    }
   },
   "cell_type": "code",
   "source": [
    "set1 = {1, 2, 3, 4}\n",
    "length = len(set1)\n",
    "print(length)"
   ],
   "id": "ebd69c5a244106e1",
   "outputs": [
    {
     "name": "stdout",
     "output_type": "stream",
     "text": [
      "4\n"
     ]
    }
   ],
   "execution_count": 6
  },
  {
   "metadata": {},
   "cell_type": "markdown",
   "source": "7. Convert List to Set: Given a list, create a new set that contains only the unique elements from that list.",
   "id": "f2ef206e0f834616"
  },
  {
   "metadata": {
    "ExecuteTime": {
     "end_time": "2025-01-10T20:24:41.931515Z",
     "start_time": "2025-01-10T20:24:41.928286Z"
    }
   },
   "cell_type": "code",
   "source": [
    "lst = [1, 2, 2, 3, 4]\n",
    "unique_set = set(lst)\n",
    "print(unique_set)"
   ],
   "id": "80b36307f94cc4ff",
   "outputs": [
    {
     "name": "stdout",
     "output_type": "stream",
     "text": [
      "{1, 2, 3, 4}\n"
     ]
    }
   ],
   "execution_count": 7
  },
  {
   "metadata": {},
   "cell_type": "markdown",
   "source": "8. Remove Element: Given a set and an element, remove the element if it exists.",
   "id": "512ff4b48b7cd36a"
  },
  {
   "metadata": {
    "ExecuteTime": {
     "end_time": "2025-01-10T20:24:50.075458Z",
     "start_time": "2025-01-10T20:24:50.071443Z"
    }
   },
   "cell_type": "code",
   "source": [
    "set1 = {1, 2, 3}\n",
    "set1.discard(2)\n",
    "print(set1)"
   ],
   "id": "41ecf5fff65c6d6a",
   "outputs": [
    {
     "name": "stdout",
     "output_type": "stream",
     "text": [
      "{1, 3}\n"
     ]
    }
   ],
   "execution_count": 8
  },
  {
   "metadata": {},
   "cell_type": "markdown",
   "source": "9. Clear Set: Create a new empty set from an existing set.",
   "id": "821e7b730f2c47f5"
  },
  {
   "metadata": {
    "ExecuteTime": {
     "end_time": "2025-01-10T20:24:59.825709Z",
     "start_time": "2025-01-10T20:24:59.821549Z"
    }
   },
   "cell_type": "code",
   "source": [
    "set1 = {1, 2, 3}\n",
    "set1.clear()\n",
    "print(set1)"
   ],
   "id": "b2560f6596403d62",
   "outputs": [
    {
     "name": "stdout",
     "output_type": "stream",
     "text": [
      "set()\n"
     ]
    }
   ],
   "execution_count": 9
  },
  {
   "metadata": {},
   "cell_type": "markdown",
   "source": "10. Check if Set is Empty: Determine if a set has any elements.",
   "id": "b3e03d87d53ee9df"
  },
  {
   "metadata": {
    "ExecuteTime": {
     "end_time": "2025-01-10T20:25:08.370085Z",
     "start_time": "2025-01-10T20:25:08.366884Z"
    }
   },
   "cell_type": "code",
   "source": [
    "set1 = set()\n",
    "is_empty = len(set1) == 0\n",
    "print(is_empty)"
   ],
   "id": "51d6f6e36a5e3c77",
   "outputs": [
    {
     "name": "stdout",
     "output_type": "stream",
     "text": [
      "True\n"
     ]
    }
   ],
   "execution_count": 10
  },
  {
   "metadata": {},
   "cell_type": "markdown",
   "source": "11. Symmetric Difference: Given two sets, create a new set that contains elements that are in either set but not in both.",
   "id": "d8c2ffa99fa454f7"
  },
  {
   "metadata": {
    "ExecuteTime": {
     "end_time": "2025-01-10T20:25:19.757177Z",
     "start_time": "2025-01-10T20:25:19.754106Z"
    }
   },
   "cell_type": "code",
   "source": [
    "set1 = {1, 2, 3}\n",
    "set2 = {3, 4, 5}\n",
    "sym_diff_set = set1.symmetric_difference(set2)\n",
    "print(sym_diff_set)"
   ],
   "id": "32fc7e4b307b1111",
   "outputs": [
    {
     "name": "stdout",
     "output_type": "stream",
     "text": [
      "{1, 2, 4, 5}\n"
     ]
    }
   ],
   "execution_count": 11
  },
  {
   "metadata": {},
   "cell_type": "markdown",
   "source": "12. Add Element: Given a set and an element, add the element to the set if it is not already present.",
   "id": "fa9fcd153b1a873c"
  },
  {
   "metadata": {
    "ExecuteTime": {
     "end_time": "2025-01-10T20:25:29.735250Z",
     "start_time": "2025-01-10T20:25:29.732267Z"
    }
   },
   "cell_type": "code",
   "source": [
    "set1 = {1, 2}\n",
    "set1.add(3)\n",
    "print(set1)"
   ],
   "id": "15181855da739745",
   "outputs": [
    {
     "name": "stdout",
     "output_type": "stream",
     "text": [
      "{1, 2, 3}\n"
     ]
    }
   ],
   "execution_count": 12
  },
  {
   "metadata": {},
   "cell_type": "markdown",
   "source": "13. Pop Element: Given a set, remove and return an arbitrary element from the set.",
   "id": "464ba6ac9d9020d4"
  },
  {
   "metadata": {
    "ExecuteTime": {
     "end_time": "2025-01-10T20:25:50.822352Z",
     "start_time": "2025-01-10T20:25:50.819271Z"
    }
   },
   "cell_type": "code",
   "source": [
    "set1 = {1, 2, 3}\n",
    "popped = set1.pop()\n",
    "print(popped)\n",
    "print(set1)"
   ],
   "id": "65a731477e0df3d6",
   "outputs": [
    {
     "name": "stdout",
     "output_type": "stream",
     "text": [
      "1\n",
      "{2, 3}\n"
     ]
    }
   ],
   "execution_count": 13
  },
  {
   "metadata": {},
   "cell_type": "markdown",
   "source": "14. Find Maximum: From a given set of numbers, find the maximum element.",
   "id": "65c31b3a81142d21"
  },
  {
   "metadata": {
    "ExecuteTime": {
     "end_time": "2025-01-10T20:26:02.453882Z",
     "start_time": "2025-01-10T20:26:02.450114Z"
    }
   },
   "cell_type": "code",
   "source": [
    "set1 = {1, 2, 3, 4}\n",
    "maximum = max(set1)\n",
    "print(maximum)"
   ],
   "id": "f7a77b65e36a1766",
   "outputs": [
    {
     "name": "stdout",
     "output_type": "stream",
     "text": [
      "4\n"
     ]
    }
   ],
   "execution_count": 14
  },
  {
   "metadata": {},
   "cell_type": "markdown",
   "source": "15. Find Minimum: From a given set of numbers, find the minimum element.",
   "id": "503838c4ac09c520"
  },
  {
   "metadata": {
    "ExecuteTime": {
     "end_time": "2025-01-10T20:26:13.185705Z",
     "start_time": "2025-01-10T20:26:13.182268Z"
    }
   },
   "cell_type": "code",
   "source": [
    "set1 = {1, 2, 3, 4}\n",
    "minimum = min(set1)\n",
    "print(minimum)"
   ],
   "id": "984f0a6a94c0841",
   "outputs": [
    {
     "name": "stdout",
     "output_type": "stream",
     "text": [
      "1\n"
     ]
    }
   ],
   "execution_count": 15
  },
  {
   "metadata": {},
   "cell_type": "markdown",
   "source": "16. Filter Even Numbers: Given a set of integers, create a new set that contains only the even numbers.",
   "id": "f09a99bc011dc50d"
  },
  {
   "metadata": {
    "ExecuteTime": {
     "end_time": "2025-01-10T20:26:23.583149Z",
     "start_time": "2025-01-10T20:26:23.580004Z"
    }
   },
   "cell_type": "code",
   "source": [
    "set1 = {1, 2, 3, 4, 5, 6}\n",
    "even_set = {x for x in set1 if x % 2 == 0}\n",
    "print(even_set)"
   ],
   "id": "1385b1ac5e429830",
   "outputs": [
    {
     "name": "stdout",
     "output_type": "stream",
     "text": [
      "{2, 4, 6}\n"
     ]
    }
   ],
   "execution_count": 16
  },
  {
   "metadata": {},
   "cell_type": "markdown",
   "source": "17. Filter Odd Numbers: Given a set of integers, create a new set that contains only the odd numbers.",
   "id": "eb99b6f7e03a15ef"
  },
  {
   "metadata": {
    "ExecuteTime": {
     "end_time": "2025-01-10T20:26:34.079239Z",
     "start_time": "2025-01-10T20:26:34.075161Z"
    }
   },
   "cell_type": "code",
   "source": [
    "set1 = {1, 2, 3, 4, 5, 6}\n",
    "odd_set = {x for x in set1 if x % 2 != 0}\n",
    "print(odd_set)"
   ],
   "id": "75a0e740de5acd4e",
   "outputs": [
    {
     "name": "stdout",
     "output_type": "stream",
     "text": [
      "{1, 3, 5}\n"
     ]
    }
   ],
   "execution_count": 17
  },
  {
   "metadata": {},
   "cell_type": "markdown",
   "source": "18. Create a Set of a Range: Create a set of numbers in a specified range (e.g., from 1 to 10).",
   "id": "e641cdc9d2567a9e"
  },
  {
   "metadata": {
    "ExecuteTime": {
     "end_time": "2025-01-10T20:26:44.251112Z",
     "start_time": "2025-01-10T20:26:44.247645Z"
    }
   },
   "cell_type": "code",
   "source": [
    "range_set = set(range(1, 11))\n",
    "print(range_set)"
   ],
   "id": "8fe9ae1a8e995007",
   "outputs": [
    {
     "name": "stdout",
     "output_type": "stream",
     "text": [
      "{1, 2, 3, 4, 5, 6, 7, 8, 9, 10}\n"
     ]
    }
   ],
   "execution_count": 18
  },
  {
   "metadata": {},
   "cell_type": "markdown",
   "source": "19. Merge and Deduplicate: Given two lists, create a new set that merges both lists and removes duplicates.",
   "id": "613d6dc58a2d0239"
  },
  {
   "metadata": {
    "ExecuteTime": {
     "end_time": "2025-01-10T20:27:07.915831Z",
     "start_time": "2025-01-10T20:27:07.912686Z"
    }
   },
   "cell_type": "code",
   "source": [
    "lst1 = [1, 2, 3]\n",
    "lst2 = [3, 4, 5]\n",
    "merged_set = set(lst1 + lst2)\n",
    "print(merged_set)"
   ],
   "id": "710b09f23fef0a52",
   "outputs": [
    {
     "name": "stdout",
     "output_type": "stream",
     "text": [
      "{1, 2, 3, 4, 5}\n"
     ]
    }
   ],
   "execution_count": 19
  },
  {
   "metadata": {},
   "cell_type": "markdown",
   "source": "20. Check Disjoint Sets: Given two sets, check if they have no elements in common.",
   "id": "7e86fd1fbb0d82c"
  },
  {
   "metadata": {
    "ExecuteTime": {
     "end_time": "2025-01-10T20:27:15.496489Z",
     "start_time": "2025-01-10T20:27:15.493179Z"
    }
   },
   "cell_type": "code",
   "source": [
    "set1 = {1, 2}\n",
    "set2 = {3, 4}\n",
    "is_disjoint = set1.isdisjoint(set2)\n",
    "print(is_disjoint)"
   ],
   "id": "de8c9dccc728eb9c",
   "outputs": [
    {
     "name": "stdout",
     "output_type": "stream",
     "text": [
      "True\n"
     ]
    }
   ],
   "execution_count": 20
  },
  {
   "metadata": {},
   "cell_type": "markdown",
   "source": "21. Remove Duplicates from a List: Given a list, create a set from it to remove duplicates, then convert back to a list.",
   "id": "8726dd36ee1e5dde"
  },
  {
   "metadata": {
    "ExecuteTime": {
     "end_time": "2025-01-10T20:27:24.371017Z",
     "start_time": "2025-01-10T20:27:24.367683Z"
    }
   },
   "cell_type": "code",
   "source": [
    "lst = [1, 2, 2, 3, 4, 4]\n",
    "unique_list = list(set(lst))\n",
    "print(unique_list)"
   ],
   "id": "c9f10cf6e21724a9",
   "outputs": [
    {
     "name": "stdout",
     "output_type": "stream",
     "text": [
      "[1, 2, 3, 4]\n"
     ]
    }
   ],
   "execution_count": 21
  },
  {
   "metadata": {},
   "cell_type": "markdown",
   "source": "22. Count Unique Elements: Given a list, determine the count of unique elements using a set.",
   "id": "f4835e6a601027c3"
  },
  {
   "metadata": {
    "ExecuteTime": {
     "end_time": "2025-01-10T20:27:34.083718Z",
     "start_time": "2025-01-10T20:27:34.080848Z"
    }
   },
   "cell_type": "code",
   "source": [
    "lst = [1, 2, 2, 3, 4]\n",
    "unique_count = len(set(lst))\n",
    "print(unique_count)"
   ],
   "id": "9c737c8ff293779f",
   "outputs": [
    {
     "name": "stdout",
     "output_type": "stream",
     "text": [
      "4\n"
     ]
    }
   ],
   "execution_count": 22
  },
  {
   "metadata": {},
   "cell_type": "markdown",
   "source": "23. Generate Random Set: Create a set with a specified number of random integers within a certain range.",
   "id": "59eebc50c29c25f6"
  },
  {
   "metadata": {
    "ExecuteTime": {
     "end_time": "2025-01-10T20:27:47.412961Z",
     "start_time": "2025-01-10T20:27:47.408946Z"
    }
   },
   "cell_type": "code",
   "source": [
    "import random\n",
    "random_set = {random.randint(1, 100) for _ in range(5)}\n",
    "print(random_set)"
   ],
   "id": "d19912ff3ef03c6d",
   "outputs": [
    {
     "name": "stdout",
     "output_type": "stream",
     "text": [
      "{97, 3, 76, 13, 47}\n"
     ]
    }
   ],
   "execution_count": 23
  }
 ],
 "metadata": {
  "kernelspec": {
   "display_name": "Python 3",
   "language": "python",
   "name": "python3"
  },
  "language_info": {
   "codemirror_mode": {
    "name": "ipython",
    "version": 2
   },
   "file_extension": ".py",
   "mimetype": "text/x-python",
   "name": "python",
   "nbconvert_exporter": "python",
   "pygments_lexer": "ipython2",
   "version": "2.7.6"
  }
 },
 "nbformat": 4,
 "nbformat_minor": 5
}
