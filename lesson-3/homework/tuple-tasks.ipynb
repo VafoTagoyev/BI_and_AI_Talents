{
 "cells": [
  {
   "metadata": {},
   "cell_type": "markdown",
   "source": "1. Count Occurrences: Given a tuple and an element, find how many times the element appears in the tuple.",
   "id": "82eafe14eef10845"
  },
  {
   "cell_type": "code",
   "id": "initial_id",
   "metadata": {
    "collapsed": true,
    "ExecuteTime": {
     "end_time": "2025-01-10T14:41:59.098518Z",
     "start_time": "2025-01-10T14:41:59.094312Z"
    }
   },
   "source": [
    "tpl = (1, 2, 3, 2, 4, 2)\n",
    "elem = 2\n",
    "count = tpl.count(elem)\n",
    "print(count)"
   ],
   "outputs": [
    {
     "name": "stdout",
     "output_type": "stream",
     "text": [
      "3\n"
     ]
    }
   ],
   "execution_count": 1
  },
  {
   "metadata": {},
   "cell_type": "markdown",
   "source": "2. Max Element: From a given tuple, determine the largest element.",
   "id": "5bdba4ee088c7dd7"
  },
  {
   "metadata": {
    "ExecuteTime": {
     "end_time": "2025-01-10T14:42:21.667671Z",
     "start_time": "2025-01-10T14:42:21.663033Z"
    }
   },
   "cell_type": "code",
   "source": [
    "tpl = (5, 3, 9, 1)\n",
    "largest = max(tpl)\n",
    "print(largest)"
   ],
   "id": "a851636a4a8855fc",
   "outputs": [
    {
     "name": "stdout",
     "output_type": "stream",
     "text": [
      "9\n"
     ]
    }
   ],
   "execution_count": 2
  },
  {
   "metadata": {},
   "cell_type": "markdown",
   "source": "3. Min Element: From a given tuple, determine the smallest element.",
   "id": "c87245660793eeaa"
  },
  {
   "metadata": {
    "ExecuteTime": {
     "end_time": "2025-01-10T14:42:43.284964Z",
     "start_time": "2025-01-10T14:42:43.280941Z"
    }
   },
   "cell_type": "code",
   "source": [
    "tpl = (5, 3, 9, 1)\n",
    "smallest = min(tpl)\n",
    "print(smallest)"
   ],
   "id": "8988967a99a76ece",
   "outputs": [
    {
     "name": "stdout",
     "output_type": "stream",
     "text": [
      "1\n"
     ]
    }
   ],
   "execution_count": 3
  },
  {
   "metadata": {},
   "cell_type": "markdown",
   "source": "4. Check Element: Given a tuple and an element, check if the element is present in the tuple.",
   "id": "45c230be018fa000"
  },
  {
   "metadata": {
    "ExecuteTime": {
     "end_time": "2025-01-10T14:43:10.394886Z",
     "start_time": "2025-01-10T14:43:10.391429Z"
    }
   },
   "cell_type": "code",
   "source": [
    "tpl = (1, 2, 3, 4, 5)\n",
    "elem = 3\n",
    "is_present = elem in tpl\n",
    "print(is_present)"
   ],
   "id": "60290bec95898621",
   "outputs": [
    {
     "name": "stdout",
     "output_type": "stream",
     "text": [
      "True\n"
     ]
    }
   ],
   "execution_count": 4
  },
  {
   "metadata": {},
   "cell_type": "markdown",
   "source": "5. First Element: Access the first element of a tuple, considering what to return if the tuple is empty.",
   "id": "5a47490831a1da4d"
  },
  {
   "metadata": {
    "ExecuteTime": {
     "end_time": "2025-01-10T14:43:42.698332Z",
     "start_time": "2025-01-10T14:43:42.694811Z"
    }
   },
   "cell_type": "code",
   "source": [
    "tpl = (10, 20, 30)\n",
    "first = tpl[0] if tpl else None\n",
    "print(first)"
   ],
   "id": "e352ea0bcab05d89",
   "outputs": [
    {
     "name": "stdout",
     "output_type": "stream",
     "text": [
      "10\n"
     ]
    }
   ],
   "execution_count": 5
  },
  {
   "metadata": {},
   "cell_type": "markdown",
   "source": "6. Last Element: Access the last element of a tuple, considering what to return if the tuple is empty.",
   "id": "226036d428dc63f5"
  },
  {
   "metadata": {
    "ExecuteTime": {
     "end_time": "2025-01-10T14:44:06.357045Z",
     "start_time": "2025-01-10T14:44:06.353932Z"
    }
   },
   "cell_type": "code",
   "source": [
    "tpl = (10, 20, 30)\n",
    "last = tpl[-1] if tpl else None\n",
    "print(last)"
   ],
   "id": "2e1adadb88dfb27c",
   "outputs": [
    {
     "name": "stdout",
     "output_type": "stream",
     "text": [
      "30\n"
     ]
    }
   ],
   "execution_count": 6
  },
  {
   "metadata": {},
   "cell_type": "markdown",
   "source": "7. Tuple Length: Determine the number of elements in the tuple.",
   "id": "170557a8e50c40eb"
  },
  {
   "metadata": {
    "ExecuteTime": {
     "end_time": "2025-01-10T14:44:29.639019Z",
     "start_time": "2025-01-10T14:44:29.633342Z"
    }
   },
   "cell_type": "code",
   "source": [
    "tpl = (1, 2, 3, 4, 5)\n",
    "length = len(tpl)\n",
    "print(length)"
   ],
   "id": "c8ac5f897f01f0d0",
   "outputs": [
    {
     "name": "stdout",
     "output_type": "stream",
     "text": [
      "5\n"
     ]
    }
   ],
   "execution_count": 7
  },
  {
   "metadata": {},
   "cell_type": "markdown",
   "source": "8. Slice Tuple: Create a new tuple that contains only the first three elements of the original tuple.",
   "id": "bc80b672c1676548"
  },
  {
   "metadata": {
    "ExecuteTime": {
     "end_time": "2025-01-10T14:44:55.755033Z",
     "start_time": "2025-01-10T14:44:55.747804Z"
    }
   },
   "cell_type": "code",
   "source": [
    "tpl = (1, 2, 3, 4, 5)\n",
    "sliced = tpl[:3]\n",
    "print(sliced)"
   ],
   "id": "f7e31f46a08e5019",
   "outputs": [
    {
     "name": "stdout",
     "output_type": "stream",
     "text": [
      "(1, 2, 3)\n"
     ]
    }
   ],
   "execution_count": 8
  },
  {
   "metadata": {},
   "cell_type": "markdown",
   "source": "9. Concatenate Tuples: Given two tuples, create a new tuple that combines both.",
   "id": "8bdf92ba0d5d8d71"
  },
  {
   "metadata": {
    "ExecuteTime": {
     "end_time": "2025-01-10T14:45:34.218242Z",
     "start_time": "2025-01-10T14:45:34.213171Z"
    }
   },
   "cell_type": "code",
   "source": [
    "tpl1 = (1, 2, 3)\n",
    "tpl2 = (4, 5, 6)\n",
    "concatenated = tpl1 + tpl2\n",
    "print(concatenated)"
   ],
   "id": "cf3d307d76068d27",
   "outputs": [
    {
     "name": "stdout",
     "output_type": "stream",
     "text": [
      "(1, 2, 3, 4, 5, 6)\n"
     ]
    }
   ],
   "execution_count": 9
  },
  {
   "metadata": {},
   "cell_type": "markdown",
   "source": "10. Check if Tuple is Empty: Determine if a tuple has any elements.",
   "id": "6aed3ba917a47d76"
  },
  {
   "metadata": {
    "ExecuteTime": {
     "end_time": "2025-01-10T14:45:59.674118Z",
     "start_time": "2025-01-10T14:45:59.669893Z"
    }
   },
   "cell_type": "code",
   "source": [
    "tpl = ()\n",
    "is_empty = len(tpl) == 0\n",
    "print(is_empty)"
   ],
   "id": "66c0e25a77523102",
   "outputs": [
    {
     "name": "stdout",
     "output_type": "stream",
     "text": [
      "True\n"
     ]
    }
   ],
   "execution_count": 10
  },
  {
   "metadata": {},
   "cell_type": "markdown",
   "source": "11. Get All Indices of Element: Given a tuple and an element, find all the indices of that element in the tuple.",
   "id": "5e82f6e6f0ca10af"
  },
  {
   "metadata": {
    "ExecuteTime": {
     "end_time": "2025-01-10T14:46:25.486190Z",
     "start_time": "2025-01-10T14:46:25.482034Z"
    }
   },
   "cell_type": "code",
   "source": [
    "tpl = (1, 2, 3, 2, 4, 2)\n",
    "elem = 2\n",
    "indices = [i for i, x in enumerate(tpl) if x == elem]\n",
    "print(indices)"
   ],
   "id": "b6f20e211b18a9d7",
   "outputs": [
    {
     "name": "stdout",
     "output_type": "stream",
     "text": [
      "[1, 3, 5]\n"
     ]
    }
   ],
   "execution_count": 11
  },
  {
   "metadata": {},
   "cell_type": "markdown",
   "source": "12. Find Second Largest: From a given tuple, find the second largest element.",
   "id": "70e387077caee2d5"
  },
  {
   "metadata": {
    "ExecuteTime": {
     "end_time": "2025-01-10T14:47:36.166909Z",
     "start_time": "2025-01-10T14:47:36.163010Z"
    }
   },
   "cell_type": "code",
   "source": [
    "tpl = (4, 2, 6, 8, 5)\n",
    "second_largest = sorted(set(tpl))[-2]\n",
    "print(second_largest)"
   ],
   "id": "ece20f41376740d",
   "outputs": [
    {
     "name": "stdout",
     "output_type": "stream",
     "text": [
      "6\n"
     ]
    }
   ],
   "execution_count": 12
  },
  {
   "metadata": {},
   "cell_type": "markdown",
   "source": "13. Find Second Smallest: From a given tuple, find the second smallest element.",
   "id": "3ebc49bbadf28a3a"
  },
  {
   "metadata": {
    "ExecuteTime": {
     "end_time": "2025-01-10T15:12:56.413042Z",
     "start_time": "2025-01-10T15:12:56.409131Z"
    }
   },
   "cell_type": "code",
   "source": [
    "tpl = (4, 2, 6, 8, 5)\n",
    "second_smallest = sorted(set(tpl))[1]\n",
    "print(second_smallest)"
   ],
   "id": "d81aa2cc44309cf0",
   "outputs": [
    {
     "name": "stdout",
     "output_type": "stream",
     "text": [
      "4\n"
     ]
    }
   ],
   "execution_count": 13
  },
  {
   "metadata": {},
   "cell_type": "markdown",
   "source": "14. Create a Single Element Tuple: Create a tuple that contains a single specified element.",
   "id": "f24554e1e9e17426"
  },
  {
   "metadata": {
    "ExecuteTime": {
     "end_time": "2025-01-10T15:13:24.348353Z",
     "start_time": "2025-01-10T15:13:24.343885Z"
    }
   },
   "cell_type": "code",
   "source": [
    "elem = 10\n",
    "single_elem_tpl = (elem,)\n",
    "print(single_elem_tpl)"
   ],
   "id": "1a9bb92919ebdb5f",
   "outputs": [
    {
     "name": "stdout",
     "output_type": "stream",
     "text": [
      "(10,)\n"
     ]
    }
   ],
   "execution_count": 14
  },
  {
   "metadata": {},
   "cell_type": "markdown",
   "source": "15. Convert List to Tuple: Given a list, create a tuple containing the same elements.",
   "id": "56fa53fc3fe7ac29"
  },
  {
   "metadata": {
    "ExecuteTime": {
     "end_time": "2025-01-10T15:13:52.858712Z",
     "start_time": "2025-01-10T15:13:52.854577Z"
    }
   },
   "cell_type": "code",
   "source": [
    "lst = [1, 2, 3, 4]\n",
    "converted_tpl = tuple(lst)\n",
    "print(converted_tpl)"
   ],
   "id": "a7629e0b2c0dc24a",
   "outputs": [
    {
     "name": "stdout",
     "output_type": "stream",
     "text": [
      "(1, 2, 3, 4)\n"
     ]
    }
   ],
   "execution_count": 15
  },
  {
   "metadata": {},
   "cell_type": "markdown",
   "source": "16. Check if Tuple is Sorted: Determine if the tuple is sorted in ascending order and return a boolean.",
   "id": "dda90db4bcedbdaf"
  },
  {
   "metadata": {
    "ExecuteTime": {
     "end_time": "2025-01-10T15:14:14.615731Z",
     "start_time": "2025-01-10T15:14:14.611755Z"
    }
   },
   "cell_type": "code",
   "source": [
    "tpl = (1, 2, 3, 4, 5)\n",
    "is_sorted = tpl == tuple(sorted(tpl))\n",
    "print(is_sorted)"
   ],
   "id": "7a9a2e3845d4c13",
   "outputs": [
    {
     "name": "stdout",
     "output_type": "stream",
     "text": [
      "True\n"
     ]
    }
   ],
   "execution_count": 16
  },
  {
   "metadata": {},
   "cell_type": "markdown",
   "source": "17. Find Maximum of Subtuple: Given a tuple, find the maximum element of a specified subtuple.",
   "id": "351ab6c4c88cd09b"
  },
  {
   "metadata": {
    "ExecuteTime": {
     "end_time": "2025-01-10T15:33:02.871478Z",
     "start_time": "2025-01-10T15:33:02.866274Z"
    }
   },
   "cell_type": "code",
   "source": [
    "tpl = (1, 2, 3, 4, 5)\n",
    "subtpl = tpl[1:4]\n",
    "max_subtpl = max(subtpl)\n",
    "print(max_subtpl)"
   ],
   "id": "d41b62e154e0c819",
   "outputs": [
    {
     "name": "stdout",
     "output_type": "stream",
     "text": [
      "4\n"
     ]
    }
   ],
   "execution_count": 17
  },
  {
   "metadata": {},
   "cell_type": "markdown",
   "source": "18. Find Minimum of Subtuple: Given a tuple, find the minimum element of a specified subtuple.",
   "id": "2fe49aea94f0ab2b"
  },
  {
   "metadata": {
    "ExecuteTime": {
     "end_time": "2025-01-10T15:33:31.813816Z",
     "start_time": "2025-01-10T15:33:31.809624Z"
    }
   },
   "cell_type": "code",
   "source": [
    "tpl = (1, 2, 3, 4, 5)\n",
    "subtpl = tpl[1:4]\n",
    "min_subtpl = min(subtpl)\n",
    "print(min_subtpl)"
   ],
   "id": "37d5cf73ddd76251",
   "outputs": [
    {
     "name": "stdout",
     "output_type": "stream",
     "text": [
      "2\n"
     ]
    }
   ],
   "execution_count": 18
  },
  {
   "metadata": {},
   "cell_type": "markdown",
   "source": "19. Remove Element by Value: Given a tuple and an element, create a new tuple that removes the first occurrence of that element.",
   "id": "d12934667d415183"
  },
  {
   "metadata": {
    "ExecuteTime": {
     "end_time": "2025-01-10T20:14:00.299399Z",
     "start_time": "2025-01-10T20:14:00.291457Z"
    }
   },
   "cell_type": "code",
   "source": [
    "tpl = (1, 2, 3, 2, 4)\n",
    "elem_to_remove = 2\n",
    "new_tpl = tuple(x for x in tpl if x != elem_to_remove or tpl.count(elem_to_remove) <= tpl[:tpl.index(elem_to_remove)+1].count(x))\n",
    "print(new_tpl)"
   ],
   "id": "306a8fba0b436f85",
   "outputs": [
    {
     "name": "stdout",
     "output_type": "stream",
     "text": [
      "(1, 3, 4)\n"
     ]
    }
   ],
   "execution_count": 19
  },
  {
   "metadata": {},
   "cell_type": "markdown",
   "source": "20. Create Nested Tuple: Create a new tuple that contains subtuples, where each subtuple contains specified elements from the original tuple.",
   "id": "7b3f8f56eafaaf9f"
  },
  {
   "metadata": {
    "ExecuteTime": {
     "end_time": "2025-01-10T20:14:30.015012Z",
     "start_time": "2025-01-10T20:14:30.009920Z"
    }
   },
   "cell_type": "code",
   "source": [
    "tpl = (1, 2, 3, 4, 5, 6)\n",
    "nested_tpl = tuple(tpl[i:i+2] for i in range(0, len(tpl), 2))\n",
    "print(nested_tpl)"
   ],
   "id": "a6af588472e31c5",
   "outputs": [
    {
     "name": "stdout",
     "output_type": "stream",
     "text": [
      "((1, 2), (3, 4), (5, 6))\n"
     ]
    }
   ],
   "execution_count": 20
  },
  {
   "metadata": {},
   "cell_type": "markdown",
   "source": "21. Repeat Elements: Given a tuple and a number, create a new tuple where each element is repeated that number of times.",
   "id": "786e3d6decf1a655"
  },
  {
   "metadata": {
    "ExecuteTime": {
     "end_time": "2025-01-10T20:14:55.660124Z",
     "start_time": "2025-01-10T20:14:55.655635Z"
    }
   },
   "cell_type": "code",
   "source": [
    "tpl = (1, 2, 3)\n",
    "repeated_tpl = tuple(x for x in tpl for _ in range(3))\n",
    "print(repeated_tpl)"
   ],
   "id": "8af4a15355d78c14",
   "outputs": [
    {
     "name": "stdout",
     "output_type": "stream",
     "text": [
      "(1, 1, 1, 2, 2, 2, 3, 3, 3)\n"
     ]
    }
   ],
   "execution_count": 21
  },
  {
   "metadata": {},
   "cell_type": "markdown",
   "source": "22. Create Range Tuple: Create a tuple of numbers in a specified range (e.g., from 1 to 10).",
   "id": "e99f49ddeac231a7"
  },
  {
   "metadata": {
    "ExecuteTime": {
     "end_time": "2025-01-10T20:15:14.907518Z",
     "start_time": "2025-01-10T20:15:14.903689Z"
    }
   },
   "cell_type": "code",
   "source": [
    "range_tpl = tuple(range(1, 11))\n",
    "print(range_tpl)"
   ],
   "id": "29f20c24b8c43993",
   "outputs": [
    {
     "name": "stdout",
     "output_type": "stream",
     "text": [
      "(1, 2, 3, 4, 5, 6, 7, 8, 9, 10)\n"
     ]
    }
   ],
   "execution_count": 22
  },
  {
   "metadata": {},
   "cell_type": "markdown",
   "source": "23. Reverse Tuple: Create a new tuple that contains the elements of the original tuple in reverse order.",
   "id": "6955804456740a09"
  },
  {
   "metadata": {
    "ExecuteTime": {
     "end_time": "2025-01-10T20:15:36.876078Z",
     "start_time": "2025-01-10T20:15:36.872518Z"
    }
   },
   "cell_type": "code",
   "source": [
    "tpl = (1, 2, 3, 4, 5)\n",
    "reversed_tpl = tpl[::-1]\n",
    "print(reversed_tpl)"
   ],
   "id": "febb500aadc66bf7",
   "outputs": [
    {
     "name": "stdout",
     "output_type": "stream",
     "text": [
      "(5, 4, 3, 2, 1)\n"
     ]
    }
   ],
   "execution_count": 23
  },
  {
   "metadata": {},
   "cell_type": "markdown",
   "source": "24. Check Palindrome: Given a tuple, check if the tuple is a palindrome (reads the same forwards and backwards).",
   "id": "f89153350364ddf4"
  },
  {
   "metadata": {
    "ExecuteTime": {
     "end_time": "2025-01-10T20:15:57.728242Z",
     "start_time": "2025-01-10T20:15:57.723258Z"
    }
   },
   "cell_type": "code",
   "source": [
    "tpl = (1, 2, 3, 2, 1)\n",
    "is_palindrome = tpl == tpl[::-1]\n",
    "print(is_palindrome)"
   ],
   "id": "d833d43521f7997e",
   "outputs": [
    {
     "name": "stdout",
     "output_type": "stream",
     "text": [
      "True\n"
     ]
    }
   ],
   "execution_count": 24
  },
  {
   "metadata": {},
   "cell_type": "markdown",
   "source": "25. Get Unique Elements: Given a tuple, create a new tuple that contains only the unique elements while maintaining the original order.",
   "id": "37c2bd7fd1d2d0b3"
  },
  {
   "metadata": {},
   "cell_type": "code",
   "outputs": [],
   "execution_count": null,
   "source": [
    "tpl = (1, 2, 2, 3, 4, 4, 5)\n",
    "unique_tpl = tuple(dict.fromkeys(tpl))\n",
    "print(unique_tpl)"
   ],
   "id": "dfc0e8146d29696"
  }
 ],
 "metadata": {
  "kernelspec": {
   "display_name": "Python 3",
   "language": "python",
   "name": "python3"
  },
  "language_info": {
   "codemirror_mode": {
    "name": "ipython",
    "version": 2
   },
   "file_extension": ".py",
   "mimetype": "text/x-python",
   "name": "python",
   "nbconvert_exporter": "python",
   "pygments_lexer": "ipython2",
   "version": "2.7.6"
  }
 },
 "nbformat": 4,
 "nbformat_minor": 5
}
