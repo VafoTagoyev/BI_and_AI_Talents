{
 "cells": [
  {
   "metadata": {},
   "cell_type": "markdown",
   "source": "1. Get Value: Given a dictionary and a key, retrieve the associated value, considering what to return if the key doesn’t exist.",
   "id": "efbcf056a02fe720"
  },
  {
   "cell_type": "code",
   "id": "initial_id",
   "metadata": {
    "collapsed": true,
    "ExecuteTime": {
     "end_time": "2025-01-10T20:33:47.200867Z",
     "start_time": "2025-01-10T20:33:47.196982Z"
    }
   },
   "source": [
    "dictionary = {\"a\": 1, \"b\": 2, \"c\": 3}\n",
    "key = \"b\"\n",
    "value = dictionary.get(key, \"Key not found\")\n",
    "print(value)"
   ],
   "outputs": [
    {
     "name": "stdout",
     "output_type": "stream",
     "text": [
      "2\n"
     ]
    }
   ],
   "execution_count": 1
  },
  {
   "metadata": {},
   "cell_type": "markdown",
   "source": "2. Check Key: Given a dictionary and a key, check if the key is present in the dictionary.",
   "id": "bf6ac1ef0be570ca"
  },
  {
   "metadata": {
    "ExecuteTime": {
     "end_time": "2025-01-10T20:33:57.426143Z",
     "start_time": "2025-01-10T20:33:57.422451Z"
    }
   },
   "cell_type": "code",
   "source": [
    "dictionary = {\"a\": 1, \"b\": 2}\n",
    "key = \"c\"\n",
    "is_present = key in dictionary\n",
    "print(is_present)"
   ],
   "id": "cf34bd5dcd2700fa",
   "outputs": [
    {
     "name": "stdout",
     "output_type": "stream",
     "text": [
      "False\n"
     ]
    }
   ],
   "execution_count": 2
  },
  {
   "metadata": {},
   "cell_type": "markdown",
   "source": "3. Count Keys: Determine the number of keys in the dictionary.",
   "id": "10ea26ad67349ca8"
  },
  {
   "metadata": {
    "ExecuteTime": {
     "end_time": "2025-01-10T20:34:05.878892Z",
     "start_time": "2025-01-10T20:34:05.875364Z"
    }
   },
   "cell_type": "code",
   "source": [
    "dictionary = {\"a\": 1, \"b\": 2, \"c\": 3}\n",
    "count = len(dictionary)\n",
    "print(count)"
   ],
   "id": "9237abede2c65a9f",
   "outputs": [
    {
     "name": "stdout",
     "output_type": "stream",
     "text": [
      "3\n"
     ]
    }
   ],
   "execution_count": 3
  },
  {
   "metadata": {},
   "cell_type": "markdown",
   "source": "4. Get All Keys: Create a list that contains all the keys in the dictionary.",
   "id": "79157e9b557050b4"
  },
  {
   "metadata": {
    "ExecuteTime": {
     "end_time": "2025-01-10T20:34:15.444771Z",
     "start_time": "2025-01-10T20:34:15.441312Z"
    }
   },
   "cell_type": "code",
   "source": [
    "dictionary = {\"a\": 1, \"b\": 2}\n",
    "keys = list(dictionary.keys())\n",
    "print(keys)"
   ],
   "id": "8f2340374f7e40cb",
   "outputs": [
    {
     "name": "stdout",
     "output_type": "stream",
     "text": [
      "['a', 'b']\n"
     ]
    }
   ],
   "execution_count": 4
  },
  {
   "metadata": {},
   "cell_type": "markdown",
   "source": "5. Get All Values: Create a list that contains all the values in the dictionary.",
   "id": "e7a860c97dd094ab"
  },
  {
   "metadata": {
    "ExecuteTime": {
     "end_time": "2025-01-10T20:34:23.744455Z",
     "start_time": "2025-01-10T20:34:23.740980Z"
    }
   },
   "cell_type": "code",
   "source": [
    "dictionary = {\"a\": 1, \"b\": 2}\n",
    "values = list(dictionary.values())\n",
    "print(values)"
   ],
   "id": "6fe82d73599069bb",
   "outputs": [
    {
     "name": "stdout",
     "output_type": "stream",
     "text": [
      "[1, 2]\n"
     ]
    }
   ],
   "execution_count": 5
  },
  {
   "metadata": {},
   "cell_type": "markdown",
   "source": "6. Merge Dictionaries: Given two dictionaries, create a new dictionary that combines both.",
   "id": "21963b3cdf305dbb"
  },
  {
   "metadata": {
    "ExecuteTime": {
     "end_time": "2025-01-10T20:34:31.305045Z",
     "start_time": "2025-01-10T20:34:31.301061Z"
    }
   },
   "cell_type": "code",
   "source": [
    "dict1 = {\"a\": 1, \"b\": 2}\n",
    "dict2 = {\"b\": 3, \"c\": 4}\n",
    "merged_dict = {**dict1, **dict2}\n",
    "print(merged_dict)"
   ],
   "id": "6c6a877fe3b81310",
   "outputs": [
    {
     "name": "stdout",
     "output_type": "stream",
     "text": [
      "{'a': 1, 'b': 3, 'c': 4}\n"
     ]
    }
   ],
   "execution_count": 6
  },
  {
   "metadata": {},
   "cell_type": "markdown",
   "source": "7. Remove Key: Given a dictionary and a key, remove the key if it exists, handling the case if it doesn’t.",
   "id": "f09364ea62f01144"
  },
  {
   "metadata": {
    "ExecuteTime": {
     "end_time": "2025-01-10T20:34:39.846860Z",
     "start_time": "2025-01-10T20:34:39.843594Z"
    }
   },
   "cell_type": "code",
   "source": [
    "dictionary = {\"a\": 1, \"b\": 2}\n",
    "key = \"b\"\n",
    "dictionary.pop(key, None)\n",
    "print(dictionary)"
   ],
   "id": "ea640fae28a3ea6c",
   "outputs": [
    {
     "name": "stdout",
     "output_type": "stream",
     "text": [
      "{'a': 1}\n"
     ]
    }
   ],
   "execution_count": 7
  },
  {
   "metadata": {},
   "cell_type": "markdown",
   "source": "8. Clear Dictionary: Create a new empty dictionary.",
   "id": "a11e9f03d167fc32"
  },
  {
   "metadata": {
    "ExecuteTime": {
     "end_time": "2025-01-10T20:34:50.954707Z",
     "start_time": "2025-01-10T20:34:50.951514Z"
    }
   },
   "cell_type": "code",
   "source": [
    "dictionary = {\"a\": 1, \"b\": 2}\n",
    "dictionary.clear()\n",
    "print(dictionary)"
   ],
   "id": "865b5b4b9e8a622",
   "outputs": [
    {
     "name": "stdout",
     "output_type": "stream",
     "text": [
      "{}\n"
     ]
    }
   ],
   "execution_count": 8
  },
  {
   "metadata": {},
   "cell_type": "markdown",
   "source": "9. Check if Dictionary is Empty: Determine if a dictionary has any elements.",
   "id": "c37c47a9ebd0aec6"
  },
  {
   "metadata": {
    "ExecuteTime": {
     "end_time": "2025-01-10T20:35:06.616602Z",
     "start_time": "2025-01-10T20:35:06.613047Z"
    }
   },
   "cell_type": "code",
   "source": [
    "dictionary = {}\n",
    "is_empty = not dictionary\n",
    "print(is_empty)"
   ],
   "id": "d85de0bbe4cc6da4",
   "outputs": [
    {
     "name": "stdout",
     "output_type": "stream",
     "text": [
      "True\n"
     ]
    }
   ],
   "execution_count": 9
  },
  {
   "metadata": {},
   "cell_type": "markdown",
   "source": "10. Get Key-Value Pair: Given a dictionary and a key, retrieve the key-value pair if the key exists.",
   "id": "867f10f68b9afe6c"
  },
  {
   "metadata": {
    "ExecuteTime": {
     "end_time": "2025-01-10T20:35:15.241004Z",
     "start_time": "2025-01-10T20:35:15.237351Z"
    }
   },
   "cell_type": "code",
   "source": [
    "dictionary = {\"a\": 1, \"b\": 2}\n",
    "key = \"b\"\n",
    "key_value_pair = (key, dictionary[key]) if key in dictionary else None\n",
    "print(key_value_pair)"
   ],
   "id": "ecace10069366bed",
   "outputs": [
    {
     "name": "stdout",
     "output_type": "stream",
     "text": [
      "('b', 2)\n"
     ]
    }
   ],
   "execution_count": 10
  },
  {
   "metadata": {},
   "cell_type": "markdown",
   "source": "11. Update Value: Given a dictionary, update the value for a specified key.",
   "id": "f21a6598cc68254d"
  },
  {
   "metadata": {
    "ExecuteTime": {
     "end_time": "2025-01-10T20:35:40.228980Z",
     "start_time": "2025-01-10T20:35:40.224861Z"
    }
   },
   "cell_type": "code",
   "source": [
    "dictionary = {\"a\": 1, \"b\": 2}\n",
    "dictionary[\"b\"] = 3\n",
    "print(dictionary)"
   ],
   "id": "ef37f4ec97648ef2",
   "outputs": [
    {
     "name": "stdout",
     "output_type": "stream",
     "text": [
      "{'a': 1, 'b': 3}\n"
     ]
    }
   ],
   "execution_count": 11
  },
  {
   "metadata": {},
   "cell_type": "markdown",
   "source": "12. Count Value Occurrences: Given a dictionary, count how many times a specific value appears across the keys.",
   "id": "c2c6b7129093c23a"
  },
  {
   "metadata": {
    "ExecuteTime": {
     "end_time": "2025-01-10T20:35:49.132093Z",
     "start_time": "2025-01-10T20:35:49.126885Z"
    }
   },
   "cell_type": "code",
   "source": [
    "dictionary = {\"a\": 1, \"b\": 2, \"c\": 1}\n",
    "value = 1\n",
    "count = list(dictionary.values()).count(value)\n",
    "print(count)"
   ],
   "id": "877ab37b277b76f7",
   "outputs": [
    {
     "name": "stdout",
     "output_type": "stream",
     "text": [
      "2\n"
     ]
    }
   ],
   "execution_count": 12
  },
  {
   "metadata": {},
   "cell_type": "markdown",
   "source": "13. Invert Dictionary: Given a dictionary, create a new dictionary that swaps keys and values.",
   "id": "f622c3cdace54f87"
  },
  {
   "metadata": {
    "ExecuteTime": {
     "end_time": "2025-01-10T20:35:56.991549Z",
     "start_time": "2025-01-10T20:35:56.987045Z"
    }
   },
   "cell_type": "code",
   "source": [
    "dictionary = {\"a\": 1, \"b\": 2}\n",
    "inverted_dict = {v: k for k, v in dictionary.items()}\n",
    "print(inverted_dict)"
   ],
   "id": "cb3974609ebc7c5e",
   "outputs": [
    {
     "name": "stdout",
     "output_type": "stream",
     "text": [
      "{1: 'a', 2: 'b'}\n"
     ]
    }
   ],
   "execution_count": 13
  },
  {
   "metadata": {},
   "cell_type": "markdown",
   "source": "14. Find Keys with Value: Given a dictionary and a value, create a list of all keys that have that value.",
   "id": "aabf2d5cd7b7f0fd"
  },
  {
   "metadata": {
    "ExecuteTime": {
     "end_time": "2025-01-10T20:36:06.508692Z",
     "start_time": "2025-01-10T20:36:06.504217Z"
    }
   },
   "cell_type": "code",
   "source": [
    "dictionary = {\"a\": 1, \"b\": 2, \"c\": 1}\n",
    "value = 1\n",
    "keys_with_value = [k for k, v in dictionary.items() if v == value]\n",
    "print(keys_with_value)"
   ],
   "id": "f369bce74934cbae",
   "outputs": [
    {
     "name": "stdout",
     "output_type": "stream",
     "text": [
      "['a', 'c']\n"
     ]
    }
   ],
   "execution_count": 14
  },
  {
   "metadata": {},
   "cell_type": "markdown",
   "source": "15. Create a Dictionary from Lists: Given two lists (one of keys and one of values), create a dictionary that pairs them.",
   "id": "ba4773d2cb80c74"
  },
  {
   "metadata": {
    "ExecuteTime": {
     "end_time": "2025-01-10T20:36:18.767956Z",
     "start_time": "2025-01-10T20:36:18.763782Z"
    }
   },
   "cell_type": "code",
   "source": [
    "keys = [\"a\", \"b\", \"c\"]\n",
    "values = [1, 2, 3]\n",
    "dictionary = dict(zip(keys, values))\n",
    "print(dictionary)"
   ],
   "id": "eb7b71b8eb0c2ab2",
   "outputs": [
    {
     "name": "stdout",
     "output_type": "stream",
     "text": [
      "{'a': 1, 'b': 2, 'c': 3}\n"
     ]
    }
   ],
   "execution_count": 15
  },
  {
   "metadata": {},
   "cell_type": "markdown",
   "source": "16. Check for Nested Dictionaries: Given a dictionary, check if any values are also dictionaries.",
   "id": "ecc2c67eb8a4dda"
  },
  {
   "metadata": {
    "ExecuteTime": {
     "end_time": "2025-01-10T20:36:26.883278Z",
     "start_time": "2025-01-10T20:36:26.878937Z"
    }
   },
   "cell_type": "code",
   "source": [
    "dictionary = {\"a\": 1, \"b\": {\"nested\": 2}}\n",
    "has_nested = any(isinstance(v, dict) for v in dictionary.values())\n",
    "print(has_nested)"
   ],
   "id": "9a28bde4053e2a61",
   "outputs": [
    {
     "name": "stdout",
     "output_type": "stream",
     "text": [
      "True\n"
     ]
    }
   ],
   "execution_count": 16
  },
  {
   "metadata": {},
   "cell_type": "markdown",
   "source": "17. Get Nested Value: Given a nested dictionary, retrieve a value from within one of the inner dictionaries.",
   "id": "76ab36251cf75220"
  },
  {
   "metadata": {
    "ExecuteTime": {
     "end_time": "2025-01-10T20:36:34.962360Z",
     "start_time": "2025-01-10T20:36:34.958309Z"
    }
   },
   "cell_type": "code",
   "source": [
    "dictionary = {\"a\": 1, \"b\": {\"nested\": 2}}\n",
    "nested_value = dictionary.get(\"b\", {}).get(\"nested\", None)\n",
    "print(nested_value)"
   ],
   "id": "a5f15ac0f5a5b449",
   "outputs": [
    {
     "name": "stdout",
     "output_type": "stream",
     "text": [
      "2\n"
     ]
    }
   ],
   "execution_count": 17
  },
  {
   "metadata": {},
   "cell_type": "markdown",
   "source": "18. Create Default Dictionary: Create a dictionary that provides a default value for missing keys.",
   "id": "d5795f0500a432"
  },
  {
   "metadata": {
    "ExecuteTime": {
     "end_time": "2025-01-10T20:36:42.842077Z",
     "start_time": "2025-01-10T20:36:42.838654Z"
    }
   },
   "cell_type": "code",
   "source": [
    "from collections import defaultdict\n",
    "default_dict = defaultdict(int)\n",
    "default_dict[\"a\"] += 1\n",
    "print(default_dict)"
   ],
   "id": "14b5a9461f0d26d9",
   "outputs": [
    {
     "name": "stdout",
     "output_type": "stream",
     "text": [
      "defaultdict(<class 'int'>, {'a': 1})\n"
     ]
    }
   ],
   "execution_count": 18
  },
  {
   "metadata": {},
   "cell_type": "markdown",
   "source": "19. Count Unique Values: Given a dictionary, determine the number of unique values it contains.",
   "id": "9865deddb530e525"
  },
  {
   "metadata": {
    "ExecuteTime": {
     "end_time": "2025-01-10T20:37:03.375707Z",
     "start_time": "2025-01-10T20:37:03.372396Z"
    }
   },
   "cell_type": "code",
   "source": [
    "dictionary = {\"a\": 1, \"b\": 2, \"c\": 1}\n",
    "unique_values = len(set(dictionary.values()))\n",
    "print(unique_values)"
   ],
   "id": "3380c221fa1fd931",
   "outputs": [
    {
     "name": "stdout",
     "output_type": "stream",
     "text": [
      "2\n"
     ]
    }
   ],
   "execution_count": 19
  },
  {
   "metadata": {},
   "cell_type": "markdown",
   "source": "20. Sort Dictionary by Key: Create a new dictionary sorted by keys.",
   "id": "6f41d74efdb62a32"
  },
  {
   "metadata": {
    "ExecuteTime": {
     "end_time": "2025-01-10T20:37:11.516015Z",
     "start_time": "2025-01-10T20:37:11.511445Z"
    }
   },
   "cell_type": "code",
   "source": [
    "dictionary = {\"b\": 2, \"a\": 1}\n",
    "sorted_dict = dict(sorted(dictionary.items()))\n",
    "print(sorted_dict)"
   ],
   "id": "de57e8dce47ac0a5",
   "outputs": [
    {
     "name": "stdout",
     "output_type": "stream",
     "text": [
      "{'a': 1, 'b': 2}\n"
     ]
    }
   ],
   "execution_count": 20
  },
  {
   "metadata": {},
   "cell_type": "markdown",
   "source": "21. Sort Dictionary by Value: Create a new dictionary sorted by values.",
   "id": "270aba3524fed14a"
  },
  {
   "metadata": {
    "ExecuteTime": {
     "end_time": "2025-01-10T20:37:19.996021Z",
     "start_time": "2025-01-10T20:37:19.991206Z"
    }
   },
   "cell_type": "code",
   "source": [
    "dictionary = {\"a\": 3, \"b\": 1}\n",
    "sorted_dict = dict(sorted(dictionary.items(), key=lambda item: item[1]))\n",
    "print(sorted_dict)"
   ],
   "id": "82f54aeccef7a462",
   "outputs": [
    {
     "name": "stdout",
     "output_type": "stream",
     "text": [
      "{'b': 1, 'a': 3}\n"
     ]
    }
   ],
   "execution_count": 21
  },
  {
   "metadata": {},
   "cell_type": "markdown",
   "source": "22. Filter by Value: Given a dictionary, create a new dictionary that only includes items with values that meet a certain condition.",
   "id": "2f00776f086d3b2f"
  },
  {
   "metadata": {
    "ExecuteTime": {
     "end_time": "2025-01-10T20:37:38.858256Z",
     "start_time": "2025-01-10T20:37:38.854589Z"
    }
   },
   "cell_type": "code",
   "source": [
    "dictionary = {\"a\": 1, \"b\": 2, \"c\": 3}\n",
    "filtered_dict = {k: v for k, v in dictionary.items() if v > 1}\n",
    "print(filtered_dict)"
   ],
   "id": "499796a206168ba7",
   "outputs": [
    {
     "name": "stdout",
     "output_type": "stream",
     "text": [
      "{'b': 2, 'c': 3}\n"
     ]
    }
   ],
   "execution_count": 22
  },
  {
   "metadata": {},
   "cell_type": "markdown",
   "source": "23. Check for Common Keys: Given two dictionaries, check if they have any keys in common.",
   "id": "378e237d253724e4"
  },
  {
   "metadata": {
    "ExecuteTime": {
     "end_time": "2025-01-10T20:37:46.403531Z",
     "start_time": "2025-01-10T20:37:46.399716Z"
    }
   },
   "cell_type": "code",
   "source": [
    "dict1 = {\"a\": 1, \"b\": 2}\n",
    "dict2 = {\"b\": 3, \"c\": 4}\n",
    "common_keys = set(dict1.keys()).intersection(dict2.keys())\n",
    "print(bool(common_keys))"
   ],
   "id": "b68bdfeebb396349",
   "outputs": [
    {
     "name": "stdout",
     "output_type": "stream",
     "text": [
      "True\n"
     ]
    }
   ],
   "execution_count": 23
  },
  {
   "metadata": {},
   "cell_type": "markdown",
   "source": "24. Create Dictionary from Tuple: Given a tuple of key-value pairs, create a dictionary from it.",
   "id": "95479f5502e4fed1"
  },
  {
   "metadata": {
    "ExecuteTime": {
     "end_time": "2025-01-10T20:37:53.755616Z",
     "start_time": "2025-01-10T20:37:53.752501Z"
    }
   },
   "cell_type": "code",
   "source": [
    "tuple_data = ((\"a\", 1), (\"b\", 2))\n",
    "dictionary = dict(tuple_data)\n",
    "print(dictionary)"
   ],
   "id": "8bb1b4ade438214e",
   "outputs": [
    {
     "name": "stdout",
     "output_type": "stream",
     "text": [
      "{'a': 1, 'b': 2}\n"
     ]
    }
   ],
   "execution_count": 24
  },
  {
   "metadata": {},
   "cell_type": "markdown",
   "source": "25. Get the First Key-Value Pair: Retrieve the first key-value pair from a dictionary.",
   "id": "2eed2639c8fb9633"
  },
  {
   "metadata": {
    "ExecuteTime": {
     "end_time": "2025-01-10T20:38:07.506323Z",
     "start_time": "2025-01-10T20:38:07.502623Z"
    }
   },
   "cell_type": "code",
   "source": [
    "dictionary = {\"a\": 1, \"b\": 2}\n",
    "first_pair = next(iter(dictionary.items()), None)\n",
    "print(first_pair)"
   ],
   "id": "d008021ffcc4839a",
   "outputs": [
    {
     "name": "stdout",
     "output_type": "stream",
     "text": [
      "('a', 1)\n"
     ]
    }
   ],
   "execution_count": 25
  }
 ],
 "metadata": {
  "kernelspec": {
   "display_name": "Python 3",
   "language": "python",
   "name": "python3"
  },
  "language_info": {
   "codemirror_mode": {
    "name": "ipython",
    "version": 2
   },
   "file_extension": ".py",
   "mimetype": "text/x-python",
   "name": "python",
   "nbconvert_exporter": "python",
   "pygments_lexer": "ipython2",
   "version": "2.7.6"
  }
 },
 "nbformat": 4,
 "nbformat_minor": 5
}
