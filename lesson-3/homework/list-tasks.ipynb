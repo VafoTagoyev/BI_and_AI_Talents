{
 "cells": [
  {
   "metadata": {},
   "cell_type": "markdown",
   "source": "1. Count Occurrences: Given a list and an element, find how many times the element appears in the list.",
   "id": "16fd4498bcb50a37"
  },
  {
   "cell_type": "code",
   "id": "initial_id",
   "metadata": {
    "collapsed": true,
    "ExecuteTime": {
     "end_time": "2025-01-10T20:38:20.816079Z",
     "start_time": "2025-01-10T20:38:20.808919Z"
    }
   },
   "source": [
    "lst = [1, 2, 3, 2, 4, 2]\n",
    "elem = 2\n",
    "count = lst.count(elem)\n",
    "print(count)"
   ],
   "outputs": [
    {
     "name": "stdout",
     "output_type": "stream",
     "text": [
      "3\n"
     ]
    }
   ],
   "execution_count": 30
  },
  {
   "metadata": {},
   "cell_type": "markdown",
   "source": "2. Sum of Elements: Given a list of numbers, calculate the total of all the elements.",
   "id": "9245109ffff4894d"
  },
  {
   "metadata": {
    "ExecuteTime": {
     "end_time": "2025-01-09T20:37:04.427066Z",
     "start_time": "2025-01-09T20:37:04.419153Z"
    }
   },
   "cell_type": "code",
   "source": [
    "lst = [1, 2, 3, 4, 5]\n",
    "total = sum(lst)\n",
    "print(total)"
   ],
   "id": "650916daf250d136",
   "outputs": [
    {
     "name": "stdout",
     "output_type": "stream",
     "text": [
      "15\n"
     ]
    }
   ],
   "execution_count": 3
  },
  {
   "metadata": {},
   "cell_type": "markdown",
   "source": "3. Max Element: From a given list, determine the largest element.",
   "id": "fd893283aced7fbf"
  },
  {
   "metadata": {
    "ExecuteTime": {
     "end_time": "2025-01-10T20:38:24.997875Z",
     "start_time": "2025-01-10T20:38:24.994263Z"
    }
   },
   "cell_type": "code",
   "source": [
    "lst = [5, 3, 9, 1]\n",
    "largest = max(lst)\n",
    "print(largest)"
   ],
   "id": "ca400c49f44430f0",
   "outputs": [
    {
     "name": "stdout",
     "output_type": "stream",
     "text": [
      "9\n"
     ]
    }
   ],
   "execution_count": 31
  },
  {
   "metadata": {},
   "cell_type": "markdown",
   "source": "4. Min Element: From a given list, determine the smallest element.",
   "id": "358cb8ddb4df9fb1"
  },
  {
   "metadata": {
    "ExecuteTime": {
     "end_time": "2025-01-09T20:45:49.023254Z",
     "start_time": "2025-01-09T20:45:49.012698Z"
    }
   },
   "cell_type": "code",
   "source": [
    "lst = [5, 3, 9, 1]\n",
    "smallest = min(lst)\n",
    "print(smallest)"
   ],
   "id": "8a428ba78ee55961",
   "outputs": [
    {
     "name": "stdout",
     "output_type": "stream",
     "text": [
      "1\n"
     ]
    }
   ],
   "execution_count": 4
  },
  {
   "metadata": {},
   "cell_type": "markdown",
   "source": "5. Check Element: Given a list and an element, check if the element is present in the list.",
   "id": "730a9d8e35cbf337"
  },
  {
   "metadata": {
    "ExecuteTime": {
     "end_time": "2025-01-09T20:46:44.812749Z",
     "start_time": "2025-01-09T20:46:44.801830Z"
    }
   },
   "cell_type": "code",
   "source": [
    "lst = [1, 2, 3, 4, 5]\n",
    "elem = 3\n",
    "is_present = elem in lst\n",
    "print(is_present)"
   ],
   "id": "bfdc7e7d5d55cee0",
   "outputs": [
    {
     "name": "stdout",
     "output_type": "stream",
     "text": [
      "True\n"
     ]
    }
   ],
   "execution_count": 5
  },
  {
   "metadata": {},
   "cell_type": "markdown",
   "source": "6. First Element: Access the first element of a list, considering what to return if the list is empty.",
   "id": "1541d3366689e366"
  },
  {
   "metadata": {
    "ExecuteTime": {
     "end_time": "2025-01-09T20:49:41.554924Z",
     "start_time": "2025-01-09T20:49:41.543886Z"
    }
   },
   "cell_type": "code",
   "source": [
    "lst = [10, 20, 30]\n",
    "first = lst[0] if lst else None\n",
    "print(first)"
   ],
   "id": "876b5cbd38feecca",
   "outputs": [
    {
     "name": "stdout",
     "output_type": "stream",
     "text": [
      "10\n"
     ]
    }
   ],
   "execution_count": 6
  },
  {
   "metadata": {},
   "cell_type": "markdown",
   "source": "7. Last Element: Access the last element of a list, considering what to return if the list is empty.",
   "id": "497931993a1bb1af"
  },
  {
   "metadata": {
    "ExecuteTime": {
     "end_time": "2025-01-09T20:50:51.240462Z",
     "start_time": "2025-01-09T20:50:51.229148Z"
    }
   },
   "cell_type": "code",
   "source": [
    "lst = [10, 20, 30]\n",
    "last = lst[-1] if lst else None\n",
    "print(last)"
   ],
   "id": "49278404c401b81f",
   "outputs": [
    {
     "name": "stdout",
     "output_type": "stream",
     "text": [
      "30\n"
     ]
    }
   ],
   "execution_count": 7
  },
  {
   "metadata": {},
   "cell_type": "markdown",
   "source": "8. Slice List: Create a new list that contains only the first three elements of the original list.",
   "id": "e363420b087826dd"
  },
  {
   "metadata": {
    "ExecuteTime": {
     "end_time": "2025-01-09T20:51:34.354312Z",
     "start_time": "2025-01-09T20:51:34.346499Z"
    }
   },
   "cell_type": "code",
   "source": [
    "lst = [1, 2, 3, 4, 5]\n",
    "sliced = lst[:3]\n",
    "print(sliced)"
   ],
   "id": "7e4846f690f50a4c",
   "outputs": [
    {
     "name": "stdout",
     "output_type": "stream",
     "text": [
      "[1, 2, 3]\n"
     ]
    }
   ],
   "execution_count": 8
  },
  {
   "metadata": {},
   "cell_type": "markdown",
   "source": "9. Reverse List: Create a new list that contains the elements of the original list in reverse order.",
   "id": "a8c36c7eb7e12801"
  },
  {
   "metadata": {
    "ExecuteTime": {
     "end_time": "2025-01-09T20:53:27.104224Z",
     "start_time": "2025-01-09T20:53:27.094092Z"
    }
   },
   "cell_type": "code",
   "source": [
    "lst = [1, 2, 3, 4, 5]\n",
    "reversed_lst = lst[::-1]\n",
    "print(reversed_lst)"
   ],
   "id": "674a53730f7abd0b",
   "outputs": [
    {
     "name": "stdout",
     "output_type": "stream",
     "text": [
      "[5, 4, 3, 2, 1]\n"
     ]
    }
   ],
   "execution_count": 9
  },
  {
   "metadata": {},
   "cell_type": "markdown",
   "source": "10. Sort List: Create a new list that contains the elements of the original list in sorted order.",
   "id": "4f6147069fbc2872"
  },
  {
   "metadata": {
    "ExecuteTime": {
     "end_time": "2025-01-09T20:54:16.670293Z",
     "start_time": "2025-01-09T20:54:16.663620Z"
    }
   },
   "cell_type": "code",
   "source": [
    "lst = [4, 2, 5, 1, 3]\n",
    "sorted_lst = sorted(lst)\n",
    "print(sorted_lst)"
   ],
   "id": "eb4508ff0fa7072f",
   "outputs": [
    {
     "name": "stdout",
     "output_type": "stream",
     "text": [
      "[1, 2, 3, 4, 5]\n"
     ]
    }
   ],
   "execution_count": 10
  },
  {
   "metadata": {},
   "cell_type": "markdown",
   "source": "11. Remove Duplicates: Given a list, create a new list that contains only unique elements from the original list.",
   "id": "80777c3d2f1e41f0"
  },
  {
   "metadata": {
    "ExecuteTime": {
     "end_time": "2025-01-09T20:55:59.283140Z",
     "start_time": "2025-01-09T20:55:59.276689Z"
    }
   },
   "cell_type": "code",
   "source": [
    "lst = [1, 2, 2, 3, 4, 4, 5]\n",
    "unique_lst = list(set(lst))\n",
    "print(unique_lst)"
   ],
   "id": "7dae25cd480f0b47",
   "outputs": [
    {
     "name": "stdout",
     "output_type": "stream",
     "text": [
      "[1, 2, 3, 4, 5]\n"
     ]
    }
   ],
   "execution_count": 11
  },
  {
   "metadata": {},
   "cell_type": "markdown",
   "source": "12. Insert Element: Given a list and an element, insert the element at a specified index.",
   "id": "35ecff6fd05d41e8"
  },
  {
   "metadata": {
    "ExecuteTime": {
     "end_time": "2025-01-10T14:18:37.149850Z",
     "start_time": "2025-01-10T14:18:37.139188Z"
    }
   },
   "cell_type": "code",
   "source": [
    "lst = [1, 2, 3, 4]\n",
    "elem = 10\n",
    "index = 2\n",
    "lst.insert(index, elem)\n",
    "print(lst)"
   ],
   "id": "100dc45d6d401f3e",
   "outputs": [
    {
     "name": "stdout",
     "output_type": "stream",
     "text": [
      "[1, 2, 10, 3, 4]\n"
     ]
    }
   ],
   "execution_count": 1
  },
  {
   "metadata": {},
   "cell_type": "markdown",
   "source": "13. Index of Element: Given a list and an element, find the index of the first occurrence of the element.",
   "id": "e1a0ddf962ba7cf9"
  },
  {
   "metadata": {
    "ExecuteTime": {
     "end_time": "2025-01-10T14:19:31.169119Z",
     "start_time": "2025-01-10T14:19:31.159036Z"
    }
   },
   "cell_type": "code",
   "source": [
    "lst = [1, 2, 3, 4, 5]\n",
    "elem = 3\n",
    "index = lst.index(elem)\n",
    "print(index)"
   ],
   "id": "2ff5530d83b12620",
   "outputs": [
    {
     "name": "stdout",
     "output_type": "stream",
     "text": [
      "2\n"
     ]
    }
   ],
   "execution_count": 2
  },
  {
   "metadata": {},
   "cell_type": "markdown",
   "source": "14. Check for Empty List: Determine if a list is empty and return a boolean.",
   "id": "3fd02b990ade2664"
  },
  {
   "metadata": {
    "ExecuteTime": {
     "end_time": "2025-01-10T14:19:59.603733Z",
     "start_time": "2025-01-10T14:19:59.592078Z"
    }
   },
   "cell_type": "code",
   "source": [
    "lst = []\n",
    "is_empty = len(lst) == 0\n",
    "print(is_empty)"
   ],
   "id": "356d4aa9876df533",
   "outputs": [
    {
     "name": "stdout",
     "output_type": "stream",
     "text": [
      "True\n"
     ]
    }
   ],
   "execution_count": 3
  },
  {
   "metadata": {},
   "cell_type": "markdown",
   "source": "15. Count Even Numbers: Given a list of integers, count how many of them are even.",
   "id": "552c889c6e6e0a56"
  },
  {
   "metadata": {
    "ExecuteTime": {
     "end_time": "2025-01-10T14:20:20.818865Z",
     "start_time": "2025-01-10T14:20:20.810655Z"
    }
   },
   "cell_type": "code",
   "source": [
    "lst = [1, 2, 3, 4, 5, 6]\n",
    "even_count = sum(1 for x in lst if x % 2 == 0)\n",
    "print(even_count)"
   ],
   "id": "2f571a67bda58f81",
   "outputs": [
    {
     "name": "stdout",
     "output_type": "stream",
     "text": [
      "3\n"
     ]
    }
   ],
   "execution_count": 4
  },
  {
   "metadata": {},
   "cell_type": "markdown",
   "source": "16. Count Odd Numbers: Given a list of integers, count how many of them are odd.",
   "id": "50036cb3a6958552"
  },
  {
   "metadata": {
    "ExecuteTime": {
     "end_time": "2025-01-10T14:20:45.241881Z",
     "start_time": "2025-01-10T14:20:45.231538Z"
    }
   },
   "cell_type": "code",
   "source": [
    "lst = [1, 2, 3, 4, 5, 6]\n",
    "odd_count = sum(1 for x in lst if x % 2 != 0)\n",
    "print(odd_count)"
   ],
   "id": "d57d1cf4fe4c16a7",
   "outputs": [
    {
     "name": "stdout",
     "output_type": "stream",
     "text": [
      "3\n"
     ]
    }
   ],
   "execution_count": 5
  },
  {
   "metadata": {},
   "cell_type": "markdown",
   "source": "17. Concatenate Lists: Given two lists, create a new list that combines both lists.",
   "id": "71e76f51d8f1c641"
  },
  {
   "metadata": {
    "ExecuteTime": {
     "end_time": "2025-01-10T14:21:12.303662Z",
     "start_time": "2025-01-10T14:21:12.295160Z"
    }
   },
   "cell_type": "code",
   "source": [
    "lst1 = [1, 2, 3]\n",
    "lst2 = [4, 5, 6]\n",
    "concatenated = lst1 + lst2\n",
    "print(concatenated)"
   ],
   "id": "5a73a5d5f8347ad7",
   "outputs": [
    {
     "name": "stdout",
     "output_type": "stream",
     "text": [
      "[1, 2, 3, 4, 5, 6]\n"
     ]
    }
   ],
   "execution_count": 6
  },
  {
   "metadata": {},
   "cell_type": "markdown",
   "source": "18. Find Sublist: Given a list and a sublist, check if the sublist exists within the list.",
   "id": "b4f786596d49c5f9"
  },
  {
   "metadata": {
    "ExecuteTime": {
     "end_time": "2025-01-10T14:21:39.783262Z",
     "start_time": "2025-01-10T14:21:39.771174Z"
    }
   },
   "cell_type": "code",
   "source": [
    "lst = [1, 2, 3, 4, 5]\n",
    "sublist = [2, 3]\n",
    "exists = str(sublist)[1:-1] in str(lst)\n",
    "print(exists)"
   ],
   "id": "627673d49d9a089d",
   "outputs": [
    {
     "name": "stdout",
     "output_type": "stream",
     "text": [
      "True\n"
     ]
    }
   ],
   "execution_count": 7
  },
  {
   "metadata": {},
   "cell_type": "markdown",
   "source": "19. Replace Element: Given a list, replace the first occurrence of a specified element with another element.",
   "id": "83bd47a88ca9611a"
  },
  {
   "metadata": {
    "ExecuteTime": {
     "end_time": "2025-01-10T14:22:05.521426Z",
     "start_time": "2025-01-10T14:22:05.516155Z"
    }
   },
   "cell_type": "code",
   "source": [
    "lst = [1, 2, 3, 2, 4]\n",
    "old_elem = 2\n",
    "new_elem = 10\n",
    "if old_elem in lst:\n",
    "    lst[lst.index(old_elem)] = new_elem\n",
    "print(lst)"
   ],
   "id": "fa266a1d4f651ecf",
   "outputs": [
    {
     "name": "stdout",
     "output_type": "stream",
     "text": [
      "[1, 10, 3, 2, 4]\n"
     ]
    }
   ],
   "execution_count": 8
  },
  {
   "metadata": {},
   "cell_type": "markdown",
   "source": "20. Find Second Largest: From a given list, find the second largest element.",
   "id": "3bc337187c45954e"
  },
  {
   "metadata": {
    "ExecuteTime": {
     "end_time": "2025-01-10T14:22:28.925872Z",
     "start_time": "2025-01-10T14:22:28.909058Z"
    }
   },
   "cell_type": "code",
   "source": [
    "lst = [4, 2, 6, 8, 5]\n",
    "second_largest = sorted(set(lst))[-2]\n",
    "print(second_largest)"
   ],
   "id": "75c12b05c099b575",
   "outputs": [
    {
     "name": "stdout",
     "output_type": "stream",
     "text": [
      "6\n"
     ]
    }
   ],
   "execution_count": 9
  },
  {
   "metadata": {},
   "cell_type": "markdown",
   "source": "21. Find Second Smallest: From a given list, find the second smallest element.",
   "id": "60645c58d123803f"
  },
  {
   "metadata": {
    "ExecuteTime": {
     "end_time": "2025-01-10T14:22:47.750517Z",
     "start_time": "2025-01-10T14:22:47.740312Z"
    }
   },
   "cell_type": "code",
   "source": [
    "lst = [4, 2, 6, 8, 5]\n",
    "second_smallest = sorted(set(lst))[1]\n",
    "print(second_smallest)"
   ],
   "id": "e81f78fb8973d032",
   "outputs": [
    {
     "name": "stdout",
     "output_type": "stream",
     "text": [
      "4\n"
     ]
    }
   ],
   "execution_count": 10
  },
  {
   "metadata": {},
   "cell_type": "markdown",
   "source": "22. Filter Even Numbers: Given a list of integers, create a new list that contains only the even numbers.",
   "id": "ee392b44e38ac54b"
  },
  {
   "metadata": {
    "ExecuteTime": {
     "end_time": "2025-01-10T14:23:12.625140Z",
     "start_time": "2025-01-10T14:23:12.615495Z"
    }
   },
   "cell_type": "code",
   "source": [
    "lst = [1, 2, 3, 4, 5, 6]\n",
    "even_lst = [x for x in lst if x % 2 == 0]\n",
    "print(even_lst)"
   ],
   "id": "11b9b7dcc953b591",
   "outputs": [
    {
     "name": "stdout",
     "output_type": "stream",
     "text": [
      "[2, 4, 6]\n"
     ]
    }
   ],
   "execution_count": 11
  },
  {
   "metadata": {},
   "cell_type": "markdown",
   "source": "23. Filter Odd Numbers: Given a list of integers, create a new list that contains only the odd numbers.",
   "id": "617744807e10561f"
  },
  {
   "metadata": {
    "ExecuteTime": {
     "end_time": "2025-01-10T14:23:48.234983Z",
     "start_time": "2025-01-10T14:23:48.226547Z"
    }
   },
   "cell_type": "code",
   "source": [
    "lst = [1, 2, 3, 4, 5, 6]\n",
    "odd_lst = [x for x in lst if x % 2 != 0]\n",
    "print(odd_lst)"
   ],
   "id": "1d4f781ec29bfe3",
   "outputs": [
    {
     "name": "stdout",
     "output_type": "stream",
     "text": [
      "[1, 3, 5]\n"
     ]
    }
   ],
   "execution_count": 12
  },
  {
   "metadata": {},
   "cell_type": "markdown",
   "source": "24. List Length: Determine the number of elements in the list.",
   "id": "51e0d4886b6932ea"
  },
  {
   "metadata": {
    "ExecuteTime": {
     "end_time": "2025-01-10T14:24:10.833229Z",
     "start_time": "2025-01-10T14:24:10.827688Z"
    }
   },
   "cell_type": "code",
   "source": [
    "lst = [1, 2, 3, 4, 5]\n",
    "length = len(lst)\n",
    "print(length)"
   ],
   "id": "54fa7f9383422f25",
   "outputs": [
    {
     "name": "stdout",
     "output_type": "stream",
     "text": [
      "5\n"
     ]
    }
   ],
   "execution_count": 13
  },
  {
   "metadata": {},
   "cell_type": "markdown",
   "source": "25. Create a Copy: Create a new list that is a copy of the original list.",
   "id": "749565c0153934a3"
  },
  {
   "metadata": {
    "ExecuteTime": {
     "end_time": "2025-01-10T14:24:38.574815Z",
     "start_time": "2025-01-10T14:24:38.567431Z"
    }
   },
   "cell_type": "code",
   "source": [
    "lst = [1, 2, 3, 4]\n",
    "copy_lst = lst[:]\n",
    "print(copy_lst)"
   ],
   "id": "ffc222c3ff041ab0",
   "outputs": [
    {
     "name": "stdout",
     "output_type": "stream",
     "text": [
      "[1, 2, 3, 4]\n"
     ]
    }
   ],
   "execution_count": 14
  },
  {
   "metadata": {},
   "cell_type": "markdown",
   "source": "26. Get Middle Element: Given a list, find the middle element. If the list has an even number of elements, return the two middle elements.",
   "id": "90eb8d0d841acf2c"
  },
  {
   "metadata": {
    "ExecuteTime": {
     "end_time": "2025-01-10T14:25:02.561604Z",
     "start_time": "2025-01-10T14:25:02.548604Z"
    }
   },
   "cell_type": "code",
   "source": [
    "lst = [1, 2, 3, 4, 5]\n",
    "middle = lst[len(lst)//2] if len(lst) % 2 == 1 else lst[len(lst)//2-1:len(lst)//2+1]\n",
    "print(middle)"
   ],
   "id": "45848be21a02640b",
   "outputs": [
    {
     "name": "stdout",
     "output_type": "stream",
     "text": [
      "3\n"
     ]
    }
   ],
   "execution_count": 15
  },
  {
   "metadata": {},
   "cell_type": "markdown",
   "source": "27. Find Maximum of Sublist: Given a list, find the maximum element of a specified sublist.",
   "id": "a0598920f6767fd"
  },
  {
   "metadata": {
    "ExecuteTime": {
     "end_time": "2025-01-10T14:25:26.701422Z",
     "start_time": "2025-01-10T14:25:26.689392Z"
    }
   },
   "cell_type": "code",
   "source": [
    "lst = [1, 2, 3, 4, 5]\n",
    "sublist = lst[1:4]\n",
    "max_sublist = max(sublist)\n",
    "print(max_sublist)"
   ],
   "id": "989e59969fb05251",
   "outputs": [
    {
     "name": "stdout",
     "output_type": "stream",
     "text": [
      "4\n"
     ]
    }
   ],
   "execution_count": 16
  },
  {
   "metadata": {},
   "cell_type": "markdown",
   "source": "28. Find Minimum of Sublist: Given a list, find the minimum element of a specified sublist.",
   "id": "90f504a6ea4ff379"
  },
  {
   "metadata": {
    "ExecuteTime": {
     "end_time": "2025-01-10T14:26:07.668319Z",
     "start_time": "2025-01-10T14:26:07.664001Z"
    }
   },
   "cell_type": "code",
   "source": [
    "lst = [1, 2, 3, 4, 5]\n",
    "sublist = lst[1:4]\n",
    "min_sublist = min(sublist)\n",
    "print(min_sublist)"
   ],
   "id": "956e7d76152f7dc7",
   "outputs": [
    {
     "name": "stdout",
     "output_type": "stream",
     "text": [
      "2\n"
     ]
    }
   ],
   "execution_count": 17
  },
  {
   "metadata": {},
   "cell_type": "markdown",
   "source": "29. Remove Element by Index: Given a list and an index, remove the element at that index if it exists.",
   "id": "d1815d653bee3019"
  },
  {
   "metadata": {
    "ExecuteTime": {
     "end_time": "2025-01-10T14:27:23.614925Z",
     "start_time": "2025-01-10T14:27:23.608355Z"
    }
   },
   "cell_type": "code",
   "source": [
    "lst = [1, 2, 3, 4]\n",
    "index = 2\n",
    "if 0 <= index < len(lst):\n",
    "    del lst[index]\n",
    "print(lst)"
   ],
   "id": "7cad80bc69851042",
   "outputs": [
    {
     "name": "stdout",
     "output_type": "stream",
     "text": [
      "[1, 2, 4]\n"
     ]
    }
   ],
   "execution_count": 18
  },
  {
   "metadata": {},
   "cell_type": "markdown",
   "source": "30. Check if List is Sorted: Determine if the list is sorted in ascending order and return a boolean.",
   "id": "a686165bae0a8f90"
  },
  {
   "metadata": {
    "ExecuteTime": {
     "end_time": "2025-01-10T14:27:52.213231Z",
     "start_time": "2025-01-10T14:27:52.209042Z"
    }
   },
   "cell_type": "code",
   "source": [
    "lst = [1, 2, 3, 4, 5]\n",
    "is_sorted = lst == sorted(lst)\n",
    "print(is_sorted)"
   ],
   "id": "9cddca4364bea681",
   "outputs": [
    {
     "name": "stdout",
     "output_type": "stream",
     "text": [
      "True\n"
     ]
    }
   ],
   "execution_count": 19
  },
  {
   "metadata": {},
   "cell_type": "markdown",
   "source": "31. Repeat Elements: Given a list and a number, create a new list where each element is repeated that number of times.",
   "id": "2533a7ebe629b89c"
  },
  {
   "metadata": {
    "ExecuteTime": {
     "end_time": "2025-01-10T14:28:28.085684Z",
     "start_time": "2025-01-10T14:28:28.080716Z"
    }
   },
   "cell_type": "code",
   "source": [
    "lst = [1, 2, 3]\n",
    "repeated_lst = [x for x in lst for _ in range(3)]\n",
    "print(repeated_lst)"
   ],
   "id": "195df0de89b7c64",
   "outputs": [
    {
     "name": "stdout",
     "output_type": "stream",
     "text": [
      "[1, 1, 1, 2, 2, 2, 3, 3, 3]\n"
     ]
    }
   ],
   "execution_count": 20
  },
  {
   "metadata": {},
   "cell_type": "markdown",
   "source": "32. Merge and Sort: Given two lists, create a new sorted list that merges both lists.",
   "id": "351b00b6c1408805"
  },
  {
   "metadata": {
    "ExecuteTime": {
     "end_time": "2025-01-10T14:29:04.395838Z",
     "start_time": "2025-01-10T14:29:04.390831Z"
    }
   },
   "cell_type": "code",
   "source": [
    "lst1 = [3, 1, 2]\n",
    "lst2 = [6, 5, 4]\n",
    "merged_sorted = sorted(lst1 + lst2)\n",
    "print(merged_sorted)"
   ],
   "id": "40a1653f35535b43",
   "outputs": [
    {
     "name": "stdout",
     "output_type": "stream",
     "text": [
      "[1, 2, 3, 4, 5, 6]\n"
     ]
    }
   ],
   "execution_count": 21
  },
  {
   "metadata": {},
   "cell_type": "markdown",
   "source": "33. Find All Indices: Given a list and an element, find all the indices of that element in the list.",
   "id": "f123b897726dfa2a"
  },
  {
   "metadata": {
    "ExecuteTime": {
     "end_time": "2025-01-10T14:29:43.014484Z",
     "start_time": "2025-01-10T14:29:43.004161Z"
    }
   },
   "cell_type": "code",
   "source": [
    "lst = [1, 2, 3, 2, 4, 2]\n",
    "elem = 2\n",
    "indices = [i for i, x in enumerate(lst) if x == elem]\n",
    "print(indices)"
   ],
   "id": "c77e6ef7d4b86471",
   "outputs": [
    {
     "name": "stdout",
     "output_type": "stream",
     "text": [
      "[1, 3, 5]\n"
     ]
    }
   ],
   "execution_count": 22
  },
  {
   "metadata": {},
   "cell_type": "markdown",
   "source": "34. Rotate List: Given a list, create a new list that is a rotated version of the original list (shift elements to the right).",
   "id": "25aabaa8f29b7a32"
  },
  {
   "metadata": {
    "ExecuteTime": {
     "end_time": "2025-01-10T14:30:24.604891Z",
     "start_time": "2025-01-10T14:30:24.599837Z"
    }
   },
   "cell_type": "code",
   "source": [
    "lst = [1, 2, 3, 4, 5]\n",
    "rotated = lst[-1:] + lst[:-1]\n",
    "print(rotated)"
   ],
   "id": "8a426f5cf2e8e956",
   "outputs": [
    {
     "name": "stdout",
     "output_type": "stream",
     "text": [
      "[5, 1, 2, 3, 4]\n"
     ]
    }
   ],
   "execution_count": 23
  },
  {
   "metadata": {},
   "cell_type": "markdown",
   "source": "35. Create Range List: Create a list of numbers in a specified range (e.g., from 1 to 10).",
   "id": "303c942e0bb17094"
  },
  {
   "metadata": {
    "ExecuteTime": {
     "end_time": "2025-01-10T14:31:18.547761Z",
     "start_time": "2025-01-10T14:31:18.544389Z"
    }
   },
   "cell_type": "code",
   "source": [
    "range_lst = list(range(1, 11))\n",
    "print(range_lst)"
   ],
   "id": "9d545bc02713f01f",
   "outputs": [
    {
     "name": "stdout",
     "output_type": "stream",
     "text": [
      "[1, 2, 3, 4, 5, 6, 7, 8, 9, 10]\n"
     ]
    }
   ],
   "execution_count": 24
  },
  {
   "metadata": {},
   "cell_type": "markdown",
   "source": "36. Sum of Positive Numbers: Given a list of numbers, calculate the sum of all positive numbers.",
   "id": "1c1a7092e40df79a"
  },
  {
   "metadata": {
    "ExecuteTime": {
     "end_time": "2025-01-10T14:31:53.793946Z",
     "start_time": "2025-01-10T14:31:53.788156Z"
    }
   },
   "cell_type": "code",
   "source": [
    "lst = [-1, 2, -3, 4, 5]\n",
    "positive_sum = sum(x for x in lst if x > 0)\n",
    "print(positive_sum)"
   ],
   "id": "2805271e3008701",
   "outputs": [
    {
     "name": "stdout",
     "output_type": "stream",
     "text": [
      "11\n"
     ]
    }
   ],
   "execution_count": 25
  },
  {
   "metadata": {},
   "cell_type": "markdown",
   "source": "37. Sum of Negative Numbers: Given a list of numbers, calculate the sum of all negative numbers.",
   "id": "e460e56c473445c1"
  },
  {
   "metadata": {
    "ExecuteTime": {
     "end_time": "2025-01-10T14:32:17.979512Z",
     "start_time": "2025-01-10T14:32:17.975016Z"
    }
   },
   "cell_type": "code",
   "source": [
    "lst = [-1, 2, -3, 4, 5]\n",
    "negative_sum = sum(x for x in lst if x < 0)\n",
    "print(negative_sum)"
   ],
   "id": "ce34f3dea251d95c",
   "outputs": [
    {
     "name": "stdout",
     "output_type": "stream",
     "text": [
      "-4\n"
     ]
    }
   ],
   "execution_count": 26
  },
  {
   "metadata": {},
   "cell_type": "markdown",
   "source": "38. Check Palindrome: Given a list, check if the list is a palindrome (reads the same forwards and backwards).",
   "id": "d3b557e143e17f1a"
  },
  {
   "metadata": {
    "ExecuteTime": {
     "end_time": "2025-01-10T14:32:56.698930Z",
     "start_time": "2025-01-10T14:32:56.695424Z"
    }
   },
   "cell_type": "code",
   "source": [
    "lst = [1, 2, 3, 2, 1]\n",
    "is_palindrome = lst == lst[::-1]\n",
    "print(is_palindrome)"
   ],
   "id": "9eec35769f680c4b",
   "outputs": [
    {
     "name": "stdout",
     "output_type": "stream",
     "text": [
      "True\n"
     ]
    }
   ],
   "execution_count": 27
  },
  {
   "metadata": {},
   "cell_type": "markdown",
   "source": "39. Create Nested List: Create a new list that contains sublists, where each sublist contains a specified number of elements from the original list.",
   "id": "fa24dfa17d04cce7"
  },
  {
   "metadata": {
    "ExecuteTime": {
     "end_time": "2025-01-10T14:33:28.249457Z",
     "start_time": "2025-01-10T14:33:28.245559Z"
    }
   },
   "cell_type": "code",
   "source": [
    "lst = [1, 2, 3, 4, 5, 6]\n",
    "nested = [lst[i:i+2] for i in range(0, len(lst), 2)]\n",
    "print(nested)"
   ],
   "id": "2a4ee591bbbe54d1",
   "outputs": [
    {
     "name": "stdout",
     "output_type": "stream",
     "text": [
      "[[1, 2], [3, 4], [5, 6]]\n"
     ]
    }
   ],
   "execution_count": 28
  },
  {
   "metadata": {},
   "cell_type": "markdown",
   "source": "40. Get Unique Elements in Order: Given a list, create a new list that contains unique elements while maintaining the original order.",
   "id": "e687d7c5a0da0fc9"
  },
  {
   "metadata": {
    "ExecuteTime": {
     "end_time": "2025-01-10T14:33:55.237947Z",
     "start_time": "2025-01-10T14:33:55.234669Z"
    }
   },
   "cell_type": "code",
   "source": [
    "lst = [1, 2, 2, 3, 4, 4, 5]\n",
    "unique_ordered = list(dict.fromkeys(lst))\n",
    "print(unique_ordered)"
   ],
   "id": "6e969978bc4007a4",
   "outputs": [
    {
     "name": "stdout",
     "output_type": "stream",
     "text": [
      "[1, 2, 3, 4, 5]\n"
     ]
    }
   ],
   "execution_count": 29
  }
 ],
 "metadata": {
  "kernelspec": {
   "display_name": "Python 3",
   "language": "python",
   "name": "python3"
  },
  "language_info": {
   "codemirror_mode": {
    "name": "ipython",
    "version": 2
   },
   "file_extension": ".py",
   "mimetype": "text/x-python",
   "name": "python",
   "nbconvert_exporter": "python",
   "pygments_lexer": "ipython2",
   "version": "2.7.6"
  }
 },
 "nbformat": 4,
 "nbformat_minor": 5
}
